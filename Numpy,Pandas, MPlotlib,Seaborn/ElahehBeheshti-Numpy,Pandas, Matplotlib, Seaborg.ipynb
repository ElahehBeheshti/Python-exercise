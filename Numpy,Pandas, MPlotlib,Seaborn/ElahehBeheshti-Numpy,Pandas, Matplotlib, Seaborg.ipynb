{
 "cells": [
  {
   "cell_type": "markdown",
   "id": "4363b639",
   "metadata": {},
   "source": [
    "<h3>Your Choice of Data Processing App\n"
   ]
  },
  {
   "cell_type": "code",
   "execution_count": 1,
   "id": "e59b981f",
   "metadata": {},
   "outputs": [],
   "source": [
    "import pandas as pd\n",
    "import numpy as np\n",
    "import matplotlib.pyplot as plt\n"
   ]
  },
  {
   "cell_type": "code",
   "execution_count": 2,
   "id": "b06d704f",
   "metadata": {},
   "outputs": [
    {
     "name": "stdout",
     "output_type": "stream",
     "text": [
      "     age  sex   chol  fbs  restecg  thalach  exang  oldpeak  slope   ca  thal  \\\n",
      "0     63  1.0  233.0  1.0        0    150.0      0      2.3    0.0  0.0     1   \n",
      "1     37  1.0  250.0  0.0        1    187.0      0      3.5    0.0  0.0     2   \n",
      "2     41  0.0  204.0  0.0        0    172.0      0      1.4    2.0  0.0     2   \n",
      "3     56  1.0  236.0  0.0        1    178.0      0      0.8    2.0  0.0     2   \n",
      "4     57  0.0  354.0  0.0        1    163.0      1      0.6    2.0  0.0     2   \n",
      "..   ...  ...    ...  ...      ...      ...    ...      ...    ...  ...   ...   \n",
      "298   57  0.0  241.0  0.0        1    123.0      1      0.2    NaN  0.0     3   \n",
      "299   45  1.0  264.0  0.0        1    132.0      0      1.2    NaN  0.0     3   \n",
      "300   68  1.0  193.0  1.0        1    141.0      0      3.4    NaN  2.0     3   \n",
      "301   57  1.0  131.0  0.0        1    115.0      1      1.2    NaN  1.0     3   \n",
      "302   57  0.0  236.0  0.0        0    174.0      0      0.0    NaN  1.0     2   \n",
      "\n",
      "     target  \n",
      "0       1.0  \n",
      "1       1.0  \n",
      "2       1.0  \n",
      "3       1.0  \n",
      "4       1.0  \n",
      "..      ...  \n",
      "298     0.0  \n",
      "299     0.0  \n",
      "300     0.0  \n",
      "301     0.0  \n",
      "302     0.0  \n",
      "\n",
      "[303 rows x 12 columns]\n"
     ]
    }
   ],
   "source": [
    "df=pd.read_csv('/Users/elahehbeheshti/desktop/Fall2024/heart.csv')\n",
    "\n",
    "print(df)"
   ]
  },
  {
   "cell_type": "markdown",
   "id": "15691e72",
   "metadata": {},
   "source": [
    "- **age**: Age of the patient\n",
    "- **sex**: Gender of the patient (1 = male, 0 = female)\n",
    "- **chol**: Serum cholesterol in mg/dl milligrams per deciliter.\n",
    "- **fbs**: Fasting blood sugar > 120 mg/dl (1 = true, 0 = false)\n",
    "- **restecg**: Resting electrocardiographic results (values 0, 1, 2)\n",
    "- **thalach**: Maximum heart rate achieved\n",
    "- **exang**: Exercise-induced angina (1 = yes, 0 = no)\n",
    "- **oldpeak**: ST depression induced by exercise relative to rest\n",
    "- **slope**: The slope of the peak exercise ST segment\n",
    "- **ca**: Number of major vessels (0-3) colored by fluoroscopy\n",
    "- **thal**: Thalassemia (3 = normal; 6 = fixed defect; 7 = reversible defect)\n",
    "- **target**: Presence of heart disease (1 = disease, 0 = no disease)\n"
   ]
  },
  {
   "cell_type": "code",
   "execution_count": 4,
   "id": "a307601c",
   "metadata": {},
   "outputs": [
    {
     "data": {
      "text/html": [
       "<div>\n",
       "<style scoped>\n",
       "    .dataframe tbody tr th:only-of-type {\n",
       "        vertical-align: middle;\n",
       "    }\n",
       "\n",
       "    .dataframe tbody tr th {\n",
       "        vertical-align: top;\n",
       "    }\n",
       "\n",
       "    .dataframe thead th {\n",
       "        text-align: right;\n",
       "    }\n",
       "</style>\n",
       "<table border=\"1\" class=\"dataframe\">\n",
       "  <thead>\n",
       "    <tr style=\"text-align: right;\">\n",
       "      <th></th>\n",
       "      <th>age</th>\n",
       "      <th>sex</th>\n",
       "      <th>chol</th>\n",
       "      <th>fbs</th>\n",
       "      <th>restecg</th>\n",
       "      <th>thalach</th>\n",
       "      <th>exang</th>\n",
       "      <th>oldpeak</th>\n",
       "      <th>slope</th>\n",
       "      <th>ca</th>\n",
       "      <th>thal</th>\n",
       "      <th>target</th>\n",
       "    </tr>\n",
       "  </thead>\n",
       "  <tbody>\n",
       "    <tr>\n",
       "      <th>count</th>\n",
       "      <td>303.000000</td>\n",
       "      <td>302.000000</td>\n",
       "      <td>302.000000</td>\n",
       "      <td>301.000000</td>\n",
       "      <td>303.000000</td>\n",
       "      <td>302.000000</td>\n",
       "      <td>303.000000</td>\n",
       "      <td>302.000000</td>\n",
       "      <td>94.000000</td>\n",
       "      <td>302.000000</td>\n",
       "      <td>303.000000</td>\n",
       "      <td>302.000000</td>\n",
       "    </tr>\n",
       "    <tr>\n",
       "      <th>mean</th>\n",
       "      <td>54.366337</td>\n",
       "      <td>0.682119</td>\n",
       "      <td>246.400662</td>\n",
       "      <td>0.149502</td>\n",
       "      <td>0.528053</td>\n",
       "      <td>149.625828</td>\n",
       "      <td>0.326733</td>\n",
       "      <td>1.038411</td>\n",
       "      <td>1.595745</td>\n",
       "      <td>0.731788</td>\n",
       "      <td>2.313531</td>\n",
       "      <td>0.543046</td>\n",
       "    </tr>\n",
       "    <tr>\n",
       "      <th>std</th>\n",
       "      <td>9.082101</td>\n",
       "      <td>0.466426</td>\n",
       "      <td>51.862088</td>\n",
       "      <td>0.357176</td>\n",
       "      <td>0.525860</td>\n",
       "      <td>22.940246</td>\n",
       "      <td>0.469794</td>\n",
       "      <td>1.162816</td>\n",
       "      <td>0.610291</td>\n",
       "      <td>1.023438</td>\n",
       "      <td>0.612277</td>\n",
       "      <td>0.498970</td>\n",
       "    </tr>\n",
       "    <tr>\n",
       "      <th>min</th>\n",
       "      <td>29.000000</td>\n",
       "      <td>0.000000</td>\n",
       "      <td>126.000000</td>\n",
       "      <td>0.000000</td>\n",
       "      <td>0.000000</td>\n",
       "      <td>71.000000</td>\n",
       "      <td>0.000000</td>\n",
       "      <td>0.000000</td>\n",
       "      <td>0.000000</td>\n",
       "      <td>0.000000</td>\n",
       "      <td>0.000000</td>\n",
       "      <td>0.000000</td>\n",
       "    </tr>\n",
       "    <tr>\n",
       "      <th>25%</th>\n",
       "      <td>47.500000</td>\n",
       "      <td>0.000000</td>\n",
       "      <td>211.000000</td>\n",
       "      <td>0.000000</td>\n",
       "      <td>0.000000</td>\n",
       "      <td>133.250000</td>\n",
       "      <td>0.000000</td>\n",
       "      <td>0.000000</td>\n",
       "      <td>1.000000</td>\n",
       "      <td>0.000000</td>\n",
       "      <td>2.000000</td>\n",
       "      <td>0.000000</td>\n",
       "    </tr>\n",
       "    <tr>\n",
       "      <th>50%</th>\n",
       "      <td>55.000000</td>\n",
       "      <td>1.000000</td>\n",
       "      <td>240.500000</td>\n",
       "      <td>0.000000</td>\n",
       "      <td>1.000000</td>\n",
       "      <td>152.500000</td>\n",
       "      <td>0.000000</td>\n",
       "      <td>0.800000</td>\n",
       "      <td>2.000000</td>\n",
       "      <td>0.000000</td>\n",
       "      <td>2.000000</td>\n",
       "      <td>1.000000</td>\n",
       "    </tr>\n",
       "    <tr>\n",
       "      <th>75%</th>\n",
       "      <td>61.000000</td>\n",
       "      <td>1.000000</td>\n",
       "      <td>274.750000</td>\n",
       "      <td>0.000000</td>\n",
       "      <td>1.000000</td>\n",
       "      <td>166.000000</td>\n",
       "      <td>1.000000</td>\n",
       "      <td>1.600000</td>\n",
       "      <td>2.000000</td>\n",
       "      <td>1.000000</td>\n",
       "      <td>3.000000</td>\n",
       "      <td>1.000000</td>\n",
       "    </tr>\n",
       "    <tr>\n",
       "      <th>max</th>\n",
       "      <td>77.000000</td>\n",
       "      <td>1.000000</td>\n",
       "      <td>564.000000</td>\n",
       "      <td>1.000000</td>\n",
       "      <td>2.000000</td>\n",
       "      <td>202.000000</td>\n",
       "      <td>1.000000</td>\n",
       "      <td>6.200000</td>\n",
       "      <td>2.000000</td>\n",
       "      <td>4.000000</td>\n",
       "      <td>3.000000</td>\n",
       "      <td>1.000000</td>\n",
       "    </tr>\n",
       "  </tbody>\n",
       "</table>\n",
       "</div>"
      ],
      "text/plain": [
       "              age         sex        chol         fbs     restecg     thalach  \\\n",
       "count  303.000000  302.000000  302.000000  301.000000  303.000000  302.000000   \n",
       "mean    54.366337    0.682119  246.400662    0.149502    0.528053  149.625828   \n",
       "std      9.082101    0.466426   51.862088    0.357176    0.525860   22.940246   \n",
       "min     29.000000    0.000000  126.000000    0.000000    0.000000   71.000000   \n",
       "25%     47.500000    0.000000  211.000000    0.000000    0.000000  133.250000   \n",
       "50%     55.000000    1.000000  240.500000    0.000000    1.000000  152.500000   \n",
       "75%     61.000000    1.000000  274.750000    0.000000    1.000000  166.000000   \n",
       "max     77.000000    1.000000  564.000000    1.000000    2.000000  202.000000   \n",
       "\n",
       "            exang     oldpeak      slope          ca        thal      target  \n",
       "count  303.000000  302.000000  94.000000  302.000000  303.000000  302.000000  \n",
       "mean     0.326733    1.038411   1.595745    0.731788    2.313531    0.543046  \n",
       "std      0.469794    1.162816   0.610291    1.023438    0.612277    0.498970  \n",
       "min      0.000000    0.000000   0.000000    0.000000    0.000000    0.000000  \n",
       "25%      0.000000    0.000000   1.000000    0.000000    2.000000    0.000000  \n",
       "50%      0.000000    0.800000   2.000000    0.000000    2.000000    1.000000  \n",
       "75%      1.000000    1.600000   2.000000    1.000000    3.000000    1.000000  \n",
       "max      1.000000    6.200000   2.000000    4.000000    3.000000    1.000000  "
      ]
     },
     "execution_count": 4,
     "metadata": {},
     "output_type": "execute_result"
    }
   ],
   "source": [
    "df.describe()"
   ]
  },
  {
   "cell_type": "code",
   "execution_count": 5,
   "id": "e80b5c39",
   "metadata": {},
   "outputs": [
    {
     "data": {
      "text/plain": [
       "<matplotlib.collections.PathCollection at 0x144d142d0>"
      ]
     },
     "execution_count": 5,
     "metadata": {},
     "output_type": "execute_result"
    },
    {
     "data": {
      "image/png": "[encoded data removed]",
      "text/plain": [
       "<Figure size 640x480 with 1 Axes>"
      ]
     },
     "metadata": {},
     "output_type": "display_data"
    }
   ],
   "source": [
    "plt.scatter(df[\"age\"],df[\"target\"])"
   ]
  },
  {
   "cell_type": "code",
   "execution_count": 6,
   "id": "1cff7083",
   "metadata": {},
   "outputs": [
    {
     "data": {
      "text/plain": [
       "<matplotlib.collections.PathCollection at 0x144d468d0>"
      ]
     },
     "execution_count": 6,
     "metadata": {},
     "output_type": "execute_result"
    },
    {
     "data": {
      "image/png": "[encoded data removed]",
      "text/plain": [
       "<Figure size 640x480 with 1 Axes>"
      ]
     },
     "metadata": {},
     "output_type": "display_data"
    }
   ],
   "source": [
    "plt.scatter(df[\"sex\"],df[\"target\"])"
   ]
  },
  {
   "cell_type": "code",
   "execution_count": 7,
   "id": "a0f3aeb0",
   "metadata": {},
   "outputs": [
    {
     "data": {
      "text/plain": [
       "<matplotlib.collections.PathCollection at 0x144d3b2d0>"
      ]
     },
     "execution_count": 7,
     "metadata": {},
     "output_type": "execute_result"
    },
    {
     "data": {
      "image/png": "[encoded data removed]",
      "text/plain": [
       "<Figure size 640x480 with 1 Axes>"
      ]
     },
     "metadata": {},
     "output_type": "display_data"
    }
   ],
   "source": [
    "plt.scatter(df[\"chol\"],df[\"target\"])"
   ]
  },
  {
   "cell_type": "code",
   "execution_count": 8,
   "id": "e5fd1c7a",
   "metadata": {},
   "outputs": [
    {
     "data": {
      "text/plain": [
       "<matplotlib.collections.PathCollection at 0x144ea52d0>"
      ]
     },
     "execution_count": 8,
     "metadata": {},
     "output_type": "execute_result"
    },
    {
     "data": {
      "image/png": "[encoded data removed]",
      "text/plain": [
       "<Figure size 640x480 with 1 Axes>"
      ]
     },
     "metadata": {},
     "output_type": "display_data"
    }
   ],
   "source": [
    "plt.scatter(df[\"fbs\"],df[\"target\"])"
   ]
  },
  {
   "cell_type": "code",
   "execution_count": 9,
   "id": "62b3c330",
   "metadata": {},
   "outputs": [
    {
     "data": {
      "text/plain": [
       "<matplotlib.collections.PathCollection at 0x144e8e8d0>"
      ]
     },
     "execution_count": 9,
     "metadata": {},
     "output_type": "execute_result"
    },
    {
     "data": {
      "image/png": "[encoded data removed]",
      "text/plain": [
       "<Figure size 640x480 with 1 Axes>"
      ]
     },
     "metadata": {},
     "output_type": "display_data"
    }
   ],
   "source": [
    "plt.scatter(df[\"restecg\"],df[\"target\"])"
   ]
  },
  {
   "cell_type": "code",
   "execution_count": 10,
   "id": "6c7bbb5e",
   "metadata": {},
   "outputs": [
    {
     "data": {
      "text/plain": [
       "<matplotlib.collections.PathCollection at 0x144f63d90>"
      ]
     },
     "execution_count": 10,
     "metadata": {},
     "output_type": "execute_result"
    },
    {
     "data": {
      "image/png": "[encoded data removed]",
      "text/plain": [
       "<Figure size 640x480 with 1 Axes>"
      ]
     },
     "metadata": {},
     "output_type": "display_data"
    }
   ],
   "source": [
    "plt.scatter(df[\"thalach\"],df[\"target\"])"
   ]
  },
  {
   "cell_type": "code",
   "execution_count": 11,
   "id": "d3196e91",
   "metadata": {},
   "outputs": [
    {
     "data": {
      "text/plain": [
       "<matplotlib.collections.PathCollection at 0x144eda010>"
      ]
     },
     "execution_count": 11,
     "metadata": {},
     "output_type": "execute_result"
    },
    {
     "data": {
      "image/png": "[encoded data removed]",
      "text/plain": [
       "<Figure size 640x480 with 1 Axes>"
      ]
     },
     "metadata": {},
     "output_type": "display_data"
    }
   ],
   "source": [
    "plt.scatter(df[\"exang\"],df[\"target\"])"
   ]
  },
  {
   "cell_type": "code",
   "execution_count": 12,
   "id": "2b9f12c7",
   "metadata": {},
   "outputs": [
    {
     "data": {
      "text/plain": [
       "<matplotlib.collections.PathCollection at 0x14604d710>"
      ]
     },
     "execution_count": 12,
     "metadata": {},
     "output_type": "execute_result"
    },
    {
     "data": {
      "image/png": "[encoded data removed]",
      "text/plain": [
       "<Figure size 640x480 with 1 Axes>"
      ]
     },
     "metadata": {},
     "output_type": "display_data"
    }
   ],
   "source": [
    "plt.scatter(df[\"oldpeak\"],df[\"target\"])"
   ]
  },
  {
   "cell_type": "code",
   "execution_count": 13,
   "id": "50ad1356",
   "metadata": {},
   "outputs": [
    {
     "data": {
      "text/plain": [
       "<matplotlib.collections.PathCollection at 0x1460ea5d0>"
      ]
     },
     "execution_count": 13,
     "metadata": {},
     "output_type": "execute_result"
    },
    {
     "data": {
      "image/png": "[encoded data removed]",
      "text/plain": [
       "<Figure size 640x480 with 1 Axes>"
      ]
     },
     "metadata": {},
     "output_type": "display_data"
    }
   ],
   "source": [
    "plt.scatter(df[\"slope\"],df[\"target\"])"
   ]
  },
  {
   "cell_type": "code",
   "execution_count": 14,
   "id": "05fa1c3e",
   "metadata": {},
   "outputs": [],
   "source": [
    "##oldpeak< 5\n",
    "###thalach >80\n",
    "####chol <500\n"
   ]
  },
  {
   "cell_type": "code",
   "execution_count": 15,
   "id": "4426f3ed",
   "metadata": {},
   "outputs": [
    {
     "name": "stdout",
     "output_type": "stream",
     "text": [
      "\n",
      " The total number of missing values for each column:\n",
      "\n",
      " age          0\n",
      "sex          1\n",
      "chol         1\n",
      "fbs          2\n",
      "restecg      0\n",
      "thalach      1\n",
      "exang        0\n",
      "oldpeak      1\n",
      "slope      209\n",
      "ca           1\n",
      "thal         0\n",
      "target       1\n",
      "dtype: int64\n"
     ]
    }
   ],
   "source": [
    "print(\"\\n The total number of missing values for each column:\\n\\n\", df.isnull().sum())"
   ]
  },
  {
   "cell_type": "code",
   "execution_count": 16,
   "id": "58c8fd92",
   "metadata": {},
   "outputs": [
    {
     "name": "stdout",
     "output_type": "stream",
     "text": [
      "('Total NaN in row', 1, ':') 0\n",
      "('Total NaN in row', 2, ':') 0\n",
      "('Total NaN in row', 3, ':') 0\n",
      "('Total NaN in row', 4, ':') 0\n",
      "('Total NaN in row', 5, ':') 0\n",
      "('Total NaN in row', 6, ':') 0\n",
      "('Total NaN in row', 7, ':') 0\n",
      "('Total NaN in row', 8, ':') 0\n",
      "('Total NaN in row', 9, ':') 0\n",
      "('Total NaN in row', 10, ':') 0\n",
      "('Total NaN in row', 11, ':') 0\n",
      "('Total NaN in row', 12, ':') 0\n",
      "('Total NaN in row', 13, ':') 0\n",
      "('Total NaN in row', 14, ':') 0\n",
      "('Total NaN in row', 15, ':') 0\n",
      "('Total NaN in row', 16, ':') 0\n",
      "('Total NaN in row', 17, ':') 0\n",
      "('Total NaN in row', 18, ':') 0\n",
      "('Total NaN in row', 19, ':') 0\n",
      "('Total NaN in row', 20, ':') 0\n",
      "('Total NaN in row', 21, ':') 0\n",
      "('Total NaN in row', 22, ':') 0\n",
      "('Total NaN in row', 23, ':') 0\n",
      "('Total NaN in row', 24, ':') 0\n",
      "('Total NaN in row', 25, ':') 0\n",
      "('Total NaN in row', 26, ':') 0\n",
      "('Total NaN in row', 27, ':') 0\n",
      "('Total NaN in row', 28, ':') 0\n",
      "('Total NaN in row', 29, ':') 0\n",
      "('Total NaN in row', 30, ':') 0\n",
      "('Total NaN in row', 31, ':') 0\n",
      "('Total NaN in row', 32, ':') 0\n",
      "('Total NaN in row', 33, ':') 0\n",
      "('Total NaN in row', 34, ':') 1\n",
      "('Total NaN in row', 35, ':') 0\n",
      "('Total NaN in row', 36, ':') 1\n",
      "('Total NaN in row', 37, ':') 0\n",
      "('Total NaN in row', 38, ':') 0\n",
      "('Total NaN in row', 39, ':') 0\n",
      "('Total NaN in row', 40, ':') 0\n",
      "('Total NaN in row', 41, ':') 0\n",
      "('Total NaN in row', 42, ':') 0\n",
      "('Total NaN in row', 43, ':') 0\n",
      "('Total NaN in row', 44, ':') 0\n",
      "('Total NaN in row', 45, ':') 0\n",
      "('Total NaN in row', 46, ':') 0\n",
      "('Total NaN in row', 47, ':') 0\n",
      "('Total NaN in row', 48, ':') 1\n",
      "('Total NaN in row', 49, ':') 0\n",
      "('Total NaN in row', 50, ':') 0\n",
      "('Total NaN in row', 51, ':') 0\n",
      "('Total NaN in row', 52, ':') 0\n",
      "('Total NaN in row', 53, ':') 0\n",
      "('Total NaN in row', 54, ':') 0\n",
      "('Total NaN in row', 55, ':') 1\n",
      "('Total NaN in row', 56, ':') 0\n",
      "('Total NaN in row', 57, ':') 0\n",
      "('Total NaN in row', 58, ':') 0\n",
      "('Total NaN in row', 59, ':') 0\n",
      "('Total NaN in row', 60, ':') 0\n",
      "('Total NaN in row', 61, ':') 0\n",
      "('Total NaN in row', 62, ':') 1\n",
      "('Total NaN in row', 63, ':') 0\n",
      "('Total NaN in row', 64, ':') 0\n",
      "('Total NaN in row', 65, ':') 0\n",
      "('Total NaN in row', 66, ':') 0\n",
      "('Total NaN in row', 67, ':') 0\n",
      "('Total NaN in row', 68, ':') 0\n",
      "('Total NaN in row', 69, ':') 0\n",
      "('Total NaN in row', 70, ':') 0\n",
      "('Total NaN in row', 71, ':') 0\n",
      "('Total NaN in row', 72, ':') 0\n",
      "('Total NaN in row', 73, ':') 1\n",
      "('Total NaN in row', 74, ':') 0\n",
      "('Total NaN in row', 75, ':') 0\n",
      "('Total NaN in row', 76, ':') 0\n",
      "('Total NaN in row', 77, ':') 0\n",
      "('Total NaN in row', 78, ':') 0\n",
      "('Total NaN in row', 79, ':') 1\n",
      "('Total NaN in row', 80, ':') 0\n",
      "('Total NaN in row', 81, ':') 0\n",
      "('Total NaN in row', 82, ':') 0\n",
      "('Total NaN in row', 83, ':') 0\n",
      "('Total NaN in row', 84, ':') 0\n",
      "('Total NaN in row', 85, ':') 0\n",
      "('Total NaN in row', 86, ':') 0\n",
      "('Total NaN in row', 87, ':') 0\n",
      "('Total NaN in row', 88, ':') 1\n",
      "('Total NaN in row', 89, ':') 0\n",
      "('Total NaN in row', 90, ':') 0\n",
      "('Total NaN in row', 91, ':') 0\n",
      "('Total NaN in row', 92, ':') 0\n",
      "('Total NaN in row', 93, ':') 0\n",
      "('Total NaN in row', 94, ':') 0\n",
      "('Total NaN in row', 95, ':') 1\n",
      "('Total NaN in row', 96, ':') 1\n",
      "('Total NaN in row', 97, ':') 1\n",
      "('Total NaN in row', 98, ':') 1\n",
      "('Total NaN in row', 99, ':') 1\n",
      "('Total NaN in row', 100, ':') 1\n",
      "('Total NaN in row', 101, ':') 1\n",
      "('Total NaN in row', 102, ':') 1\n",
      "('Total NaN in row', 103, ':') 1\n",
      "('Total NaN in row', 104, ':') 1\n",
      "('Total NaN in row', 105, ':') 1\n",
      "('Total NaN in row', 106, ':') 1\n",
      "('Total NaN in row', 107, ':') 1\n",
      "('Total NaN in row', 108, ':') 1\n",
      "('Total NaN in row', 109, ':') 1\n",
      "('Total NaN in row', 110, ':') 1\n",
      "('Total NaN in row', 111, ':') 1\n",
      "('Total NaN in row', 112, ':') 1\n",
      "('Total NaN in row', 113, ':') 1\n",
      "('Total NaN in row', 114, ':') 1\n",
      "('Total NaN in row', 115, ':') 1\n",
      "('Total NaN in row', 116, ':') 1\n",
      "('Total NaN in row', 117, ':') 1\n",
      "('Total NaN in row', 118, ':') 1\n",
      "('Total NaN in row', 119, ':') 1\n",
      "('Total NaN in row', 120, ':') 1\n",
      "('Total NaN in row', 121, ':') 1\n",
      "('Total NaN in row', 122, ':') 1\n",
      "('Total NaN in row', 123, ':') 1\n",
      "('Total NaN in row', 124, ':') 1\n",
      "('Total NaN in row', 125, ':') 1\n",
      "('Total NaN in row', 126, ':') 1\n",
      "('Total NaN in row', 127, ':') 1\n",
      "('Total NaN in row', 128, ':') 1\n",
      "('Total NaN in row', 129, ':') 1\n",
      "('Total NaN in row', 130, ':') 1\n",
      "('Total NaN in row', 131, ':') 1\n",
      "('Total NaN in row', 132, ':') 1\n",
      "('Total NaN in row', 133, ':') 1\n",
      "('Total NaN in row', 134, ':') 1\n",
      "('Total NaN in row', 135, ':') 1\n",
      "('Total NaN in row', 136, ':') 1\n",
      "('Total NaN in row', 137, ':') 1\n",
      "('Total NaN in row', 138, ':') 1\n",
      "('Total NaN in row', 139, ':') 1\n",
      "('Total NaN in row', 140, ':') 1\n",
      "('Total NaN in row', 141, ':') 1\n",
      "('Total NaN in row', 142, ':') 1\n",
      "('Total NaN in row', 143, ':') 1\n",
      "('Total NaN in row', 144, ':') 1\n",
      "('Total NaN in row', 145, ':') 1\n",
      "('Total NaN in row', 146, ':') 1\n",
      "('Total NaN in row', 147, ':') 1\n",
      "('Total NaN in row', 148, ':') 1\n",
      "('Total NaN in row', 149, ':') 1\n",
      "('Total NaN in row', 150, ':') 1\n",
      "('Total NaN in row', 151, ':') 1\n",
      "('Total NaN in row', 152, ':') 1\n",
      "('Total NaN in row', 153, ':') 1\n",
      "('Total NaN in row', 154, ':') 1\n",
      "('Total NaN in row', 155, ':') 1\n",
      "('Total NaN in row', 156, ':') 1\n",
      "('Total NaN in row', 157, ':') 1\n",
      "('Total NaN in row', 158, ':') 1\n",
      "('Total NaN in row', 159, ':') 1\n",
      "('Total NaN in row', 160, ':') 1\n",
      "('Total NaN in row', 161, ':') 1\n",
      "('Total NaN in row', 162, ':') 1\n",
      "('Total NaN in row', 163, ':') 1\n",
      "('Total NaN in row', 164, ':') 1\n",
      "('Total NaN in row', 165, ':') 1\n",
      "('Total NaN in row', 166, ':') 1\n",
      "('Total NaN in row', 167, ':') 1\n",
      "('Total NaN in row', 168, ':') 1\n",
      "('Total NaN in row', 169, ':') 1\n",
      "('Total NaN in row', 170, ':') 1\n",
      "('Total NaN in row', 171, ':') 1\n",
      "('Total NaN in row', 172, ':') 1\n",
      "('Total NaN in row', 173, ':') 1\n",
      "('Total NaN in row', 174, ':') 1\n",
      "('Total NaN in row', 175, ':') 1\n",
      "('Total NaN in row', 176, ':') 1\n",
      "('Total NaN in row', 177, ':') 1\n",
      "('Total NaN in row', 178, ':') 1\n",
      "('Total NaN in row', 179, ':') 1\n",
      "('Total NaN in row', 180, ':') 1\n",
      "('Total NaN in row', 181, ':') 1\n",
      "('Total NaN in row', 182, ':') 1\n",
      "('Total NaN in row', 183, ':') 1\n",
      "('Total NaN in row', 184, ':') 1\n",
      "('Total NaN in row', 185, ':') 1\n",
      "('Total NaN in row', 186, ':') 1\n",
      "('Total NaN in row', 187, ':') 1\n",
      "('Total NaN in row', 188, ':') 1\n",
      "('Total NaN in row', 189, ':') 1\n",
      "('Total NaN in row', 190, ':') 1\n",
      "('Total NaN in row', 191, ':') 1\n",
      "('Total NaN in row', 192, ':') 1\n",
      "('Total NaN in row', 193, ':') 1\n",
      "('Total NaN in row', 194, ':') 1\n",
      "('Total NaN in row', 195, ':') 1\n",
      "('Total NaN in row', 196, ':') 1\n",
      "('Total NaN in row', 197, ':') 1\n",
      "('Total NaN in row', 198, ':') 1\n",
      "('Total NaN in row', 199, ':') 1\n",
      "('Total NaN in row', 200, ':') 1\n",
      "('Total NaN in row', 201, ':') 1\n",
      "('Total NaN in row', 202, ':') 1\n",
      "('Total NaN in row', 203, ':') 1\n",
      "('Total NaN in row', 204, ':') 1\n",
      "('Total NaN in row', 205, ':') 1\n",
      "('Total NaN in row', 206, ':') 1\n",
      "('Total NaN in row', 207, ':') 1\n",
      "('Total NaN in row', 208, ':') 1\n",
      "('Total NaN in row', 209, ':') 1\n",
      "('Total NaN in row', 210, ':') 1\n",
      "('Total NaN in row', 211, ':') 1\n",
      "('Total NaN in row', 212, ':') 1\n",
      "('Total NaN in row', 213, ':') 1\n",
      "('Total NaN in row', 214, ':') 1\n",
      "('Total NaN in row', 215, ':') 1\n",
      "('Total NaN in row', 216, ':') 1\n",
      "('Total NaN in row', 217, ':') 1\n",
      "('Total NaN in row', 218, ':') 1\n",
      "('Total NaN in row', 219, ':') 1\n",
      "('Total NaN in row', 220, ':') 1\n",
      "('Total NaN in row', 221, ':') 1\n",
      "('Total NaN in row', 222, ':') 1\n",
      "('Total NaN in row', 223, ':') 1\n",
      "('Total NaN in row', 224, ':') 1\n",
      "('Total NaN in row', 225, ':') 1\n",
      "('Total NaN in row', 226, ':') 1\n",
      "('Total NaN in row', 227, ':') 1\n",
      "('Total NaN in row', 228, ':') 1\n",
      "('Total NaN in row', 229, ':') 1\n",
      "('Total NaN in row', 230, ':') 1\n",
      "('Total NaN in row', 231, ':') 1\n",
      "('Total NaN in row', 232, ':') 1\n",
      "('Total NaN in row', 233, ':') 1\n",
      "('Total NaN in row', 234, ':') 1\n",
      "('Total NaN in row', 235, ':') 1\n",
      "('Total NaN in row', 236, ':') 1\n",
      "('Total NaN in row', 237, ':') 1\n",
      "('Total NaN in row', 238, ':') 1\n",
      "('Total NaN in row', 239, ':') 1\n",
      "('Total NaN in row', 240, ':') 1\n",
      "('Total NaN in row', 241, ':') 1\n",
      "('Total NaN in row', 242, ':') 1\n",
      "('Total NaN in row', 243, ':') 1\n",
      "('Total NaN in row', 244, ':') 1\n",
      "('Total NaN in row', 245, ':') 1\n",
      "('Total NaN in row', 246, ':') 1\n",
      "('Total NaN in row', 247, ':') 1\n",
      "('Total NaN in row', 248, ':') 1\n",
      "('Total NaN in row', 249, ':') 1\n",
      "('Total NaN in row', 250, ':') 1\n",
      "('Total NaN in row', 251, ':') 1\n",
      "('Total NaN in row', 252, ':') 1\n",
      "('Total NaN in row', 253, ':') 1\n",
      "('Total NaN in row', 254, ':') 1\n",
      "('Total NaN in row', 255, ':') 1\n",
      "('Total NaN in row', 256, ':') 1\n",
      "('Total NaN in row', 257, ':') 1\n",
      "('Total NaN in row', 258, ':') 1\n",
      "('Total NaN in row', 259, ':') 1\n",
      "('Total NaN in row', 260, ':') 1\n",
      "('Total NaN in row', 261, ':') 1\n",
      "('Total NaN in row', 262, ':') 1\n",
      "('Total NaN in row', 263, ':') 1\n",
      "('Total NaN in row', 264, ':') 1\n",
      "('Total NaN in row', 265, ':') 1\n",
      "('Total NaN in row', 266, ':') 1\n",
      "('Total NaN in row', 267, ':') 1\n",
      "('Total NaN in row', 268, ':') 1\n",
      "('Total NaN in row', 269, ':') 1\n",
      "('Total NaN in row', 270, ':') 1\n",
      "('Total NaN in row', 271, ':') 1\n",
      "('Total NaN in row', 272, ':') 1\n",
      "('Total NaN in row', 273, ':') 1\n",
      "('Total NaN in row', 274, ':') 1\n",
      "('Total NaN in row', 275, ':') 1\n",
      "('Total NaN in row', 276, ':') 1\n",
      "('Total NaN in row', 277, ':') 1\n",
      "('Total NaN in row', 278, ':') 1\n",
      "('Total NaN in row', 279, ':') 1\n",
      "('Total NaN in row', 280, ':') 1\n",
      "('Total NaN in row', 281, ':') 1\n",
      "('Total NaN in row', 282, ':') 1\n",
      "('Total NaN in row', 283, ':') 1\n",
      "('Total NaN in row', 284, ':') 1\n",
      "('Total NaN in row', 285, ':') 1\n",
      "('Total NaN in row', 286, ':') 1\n",
      "('Total NaN in row', 287, ':') 1\n",
      "('Total NaN in row', 288, ':') 1\n",
      "('Total NaN in row', 289, ':') 1\n",
      "('Total NaN in row', 290, ':') 1\n",
      "('Total NaN in row', 291, ':') 1\n",
      "('Total NaN in row', 292, ':') 1\n",
      "('Total NaN in row', 293, ':') 1\n",
      "('Total NaN in row', 294, ':') 1\n",
      "('Total NaN in row', 295, ':') 1\n",
      "('Total NaN in row', 296, ':') 1\n",
      "('Total NaN in row', 297, ':') 1\n",
      "('Total NaN in row', 298, ':') 1\n",
      "('Total NaN in row', 299, ':') 1\n",
      "('Total NaN in row', 300, ':') 1\n",
      "('Total NaN in row', 301, ':') 1\n",
      "('Total NaN in row', 302, ':') 1\n",
      "('Total NaN in row', 303, ':') 1\n"
     ]
    }
   ],
   "source": [
    "for i in range(len(df.index)):\n",
    "    print((\"Total NaN in row\", i + 1, \":\"), df.iloc[i].isnull().sum())"
   ]
  },
  {
   "cell_type": "code",
   "execution_count": 17,
   "id": "579cb2e2",
   "metadata": {},
   "outputs": [
    {
     "data": {
      "text/html": [
       "<div>\n",
       "<style scoped>\n",
       "    .dataframe tbody tr th:only-of-type {\n",
       "        vertical-align: middle;\n",
       "    }\n",
       "\n",
       "    .dataframe tbody tr th {\n",
       "        vertical-align: top;\n",
       "    }\n",
       "\n",
       "    .dataframe thead th {\n",
       "        text-align: right;\n",
       "    }\n",
       "</style>\n",
       "<table border=\"1\" class=\"dataframe\">\n",
       "  <thead>\n",
       "    <tr style=\"text-align: right;\">\n",
       "      <th></th>\n",
       "      <th>age</th>\n",
       "      <th>sex</th>\n",
       "      <th>chol</th>\n",
       "      <th>fbs</th>\n",
       "      <th>restecg</th>\n",
       "      <th>thalach</th>\n",
       "      <th>exang</th>\n",
       "      <th>oldpeak</th>\n",
       "      <th>ca</th>\n",
       "      <th>thal</th>\n",
       "      <th>target</th>\n",
       "    </tr>\n",
       "  </thead>\n",
       "  <tbody>\n",
       "    <tr>\n",
       "      <th>0</th>\n",
       "      <td>63</td>\n",
       "      <td>1.0</td>\n",
       "      <td>233.0</td>\n",
       "      <td>1.0</td>\n",
       "      <td>0</td>\n",
       "      <td>150.0</td>\n",
       "      <td>0</td>\n",
       "      <td>2.3</td>\n",
       "      <td>0.0</td>\n",
       "      <td>1</td>\n",
       "      <td>1.0</td>\n",
       "    </tr>\n",
       "    <tr>\n",
       "      <th>1</th>\n",
       "      <td>37</td>\n",
       "      <td>1.0</td>\n",
       "      <td>250.0</td>\n",
       "      <td>0.0</td>\n",
       "      <td>1</td>\n",
       "      <td>187.0</td>\n",
       "      <td>0</td>\n",
       "      <td>3.5</td>\n",
       "      <td>0.0</td>\n",
       "      <td>2</td>\n",
       "      <td>1.0</td>\n",
       "    </tr>\n",
       "    <tr>\n",
       "      <th>2</th>\n",
       "      <td>41</td>\n",
       "      <td>0.0</td>\n",
       "      <td>204.0</td>\n",
       "      <td>0.0</td>\n",
       "      <td>0</td>\n",
       "      <td>172.0</td>\n",
       "      <td>0</td>\n",
       "      <td>1.4</td>\n",
       "      <td>0.0</td>\n",
       "      <td>2</td>\n",
       "      <td>1.0</td>\n",
       "    </tr>\n",
       "    <tr>\n",
       "      <th>3</th>\n",
       "      <td>56</td>\n",
       "      <td>1.0</td>\n",
       "      <td>236.0</td>\n",
       "      <td>0.0</td>\n",
       "      <td>1</td>\n",
       "      <td>178.0</td>\n",
       "      <td>0</td>\n",
       "      <td>0.8</td>\n",
       "      <td>0.0</td>\n",
       "      <td>2</td>\n",
       "      <td>1.0</td>\n",
       "    </tr>\n",
       "    <tr>\n",
       "      <th>4</th>\n",
       "      <td>57</td>\n",
       "      <td>0.0</td>\n",
       "      <td>354.0</td>\n",
       "      <td>0.0</td>\n",
       "      <td>1</td>\n",
       "      <td>163.0</td>\n",
       "      <td>1</td>\n",
       "      <td>0.6</td>\n",
       "      <td>0.0</td>\n",
       "      <td>2</td>\n",
       "      <td>1.0</td>\n",
       "    </tr>\n",
       "    <tr>\n",
       "      <th>...</th>\n",
       "      <td>...</td>\n",
       "      <td>...</td>\n",
       "      <td>...</td>\n",
       "      <td>...</td>\n",
       "      <td>...</td>\n",
       "      <td>...</td>\n",
       "      <td>...</td>\n",
       "      <td>...</td>\n",
       "      <td>...</td>\n",
       "      <td>...</td>\n",
       "      <td>...</td>\n",
       "    </tr>\n",
       "    <tr>\n",
       "      <th>298</th>\n",
       "      <td>57</td>\n",
       "      <td>0.0</td>\n",
       "      <td>241.0</td>\n",
       "      <td>0.0</td>\n",
       "      <td>1</td>\n",
       "      <td>123.0</td>\n",
       "      <td>1</td>\n",
       "      <td>0.2</td>\n",
       "      <td>0.0</td>\n",
       "      <td>3</td>\n",
       "      <td>0.0</td>\n",
       "    </tr>\n",
       "    <tr>\n",
       "      <th>299</th>\n",
       "      <td>45</td>\n",
       "      <td>1.0</td>\n",
       "      <td>264.0</td>\n",
       "      <td>0.0</td>\n",
       "      <td>1</td>\n",
       "      <td>132.0</td>\n",
       "      <td>0</td>\n",
       "      <td>1.2</td>\n",
       "      <td>0.0</td>\n",
       "      <td>3</td>\n",
       "      <td>0.0</td>\n",
       "    </tr>\n",
       "    <tr>\n",
       "      <th>300</th>\n",
       "      <td>68</td>\n",
       "      <td>1.0</td>\n",
       "      <td>193.0</td>\n",
       "      <td>1.0</td>\n",
       "      <td>1</td>\n",
       "      <td>141.0</td>\n",
       "      <td>0</td>\n",
       "      <td>3.4</td>\n",
       "      <td>2.0</td>\n",
       "      <td>3</td>\n",
       "      <td>0.0</td>\n",
       "    </tr>\n",
       "    <tr>\n",
       "      <th>301</th>\n",
       "      <td>57</td>\n",
       "      <td>1.0</td>\n",
       "      <td>131.0</td>\n",
       "      <td>0.0</td>\n",
       "      <td>1</td>\n",
       "      <td>115.0</td>\n",
       "      <td>1</td>\n",
       "      <td>1.2</td>\n",
       "      <td>1.0</td>\n",
       "      <td>3</td>\n",
       "      <td>0.0</td>\n",
       "    </tr>\n",
       "    <tr>\n",
       "      <th>302</th>\n",
       "      <td>57</td>\n",
       "      <td>0.0</td>\n",
       "      <td>236.0</td>\n",
       "      <td>0.0</td>\n",
       "      <td>0</td>\n",
       "      <td>174.0</td>\n",
       "      <td>0</td>\n",
       "      <td>0.0</td>\n",
       "      <td>1.0</td>\n",
       "      <td>2</td>\n",
       "      <td>0.0</td>\n",
       "    </tr>\n",
       "  </tbody>\n",
       "</table>\n",
       "<p>303 rows × 11 columns</p>\n",
       "</div>"
      ],
      "text/plain": [
       "     age  sex   chol  fbs  restecg  thalach  exang  oldpeak   ca  thal  target\n",
       "0     63  1.0  233.0  1.0        0    150.0      0      2.3  0.0     1     1.0\n",
       "1     37  1.0  250.0  0.0        1    187.0      0      3.5  0.0     2     1.0\n",
       "2     41  0.0  204.0  0.0        0    172.0      0      1.4  0.0     2     1.0\n",
       "3     56  1.0  236.0  0.0        1    178.0      0      0.8  0.0     2     1.0\n",
       "4     57  0.0  354.0  0.0        1    163.0      1      0.6  0.0     2     1.0\n",
       "..   ...  ...    ...  ...      ...      ...    ...      ...  ...   ...     ...\n",
       "298   57  0.0  241.0  0.0        1    123.0      1      0.2  0.0     3     0.0\n",
       "299   45  1.0  264.0  0.0        1    132.0      0      1.2  0.0     3     0.0\n",
       "300   68  1.0  193.0  1.0        1    141.0      0      3.4  2.0     3     0.0\n",
       "301   57  1.0  131.0  0.0        1    115.0      1      1.2  1.0     3     0.0\n",
       "302   57  0.0  236.0  0.0        0    174.0      0      0.0  1.0     2     0.0\n",
       "\n",
       "[303 rows x 11 columns]"
      ]
     },
     "execution_count": 17,
     "metadata": {},
     "output_type": "execute_result"
    }
   ],
   "source": [
    "df1=df.drop(\"slope\", axis=1)\n",
    "df1"
   ]
  },
  {
   "cell_type": "code",
   "execution_count": 18,
   "id": "90d72891",
   "metadata": {},
   "outputs": [
    {
     "data": {
      "text/html": [
       "<div>\n",
       "<style scoped>\n",
       "    .dataframe tbody tr th:only-of-type {\n",
       "        vertical-align: middle;\n",
       "    }\n",
       "\n",
       "    .dataframe tbody tr th {\n",
       "        vertical-align: top;\n",
       "    }\n",
       "\n",
       "    .dataframe thead th {\n",
       "        text-align: right;\n",
       "    }\n",
       "</style>\n",
       "<table border=\"1\" class=\"dataframe\">\n",
       "  <thead>\n",
       "    <tr style=\"text-align: right;\">\n",
       "      <th></th>\n",
       "      <th>age</th>\n",
       "      <th>sex</th>\n",
       "      <th>chol</th>\n",
       "      <th>fbs</th>\n",
       "      <th>restecg</th>\n",
       "      <th>thalach</th>\n",
       "      <th>exang</th>\n",
       "      <th>oldpeak</th>\n",
       "      <th>ca</th>\n",
       "      <th>thal</th>\n",
       "      <th>target</th>\n",
       "    </tr>\n",
       "  </thead>\n",
       "  <tbody>\n",
       "    <tr>\n",
       "      <th>count</th>\n",
       "      <td>295.000000</td>\n",
       "      <td>295.000000</td>\n",
       "      <td>295.000000</td>\n",
       "      <td>295.000000</td>\n",
       "      <td>295.000000</td>\n",
       "      <td>295.000000</td>\n",
       "      <td>295.000000</td>\n",
       "      <td>295.000000</td>\n",
       "      <td>295.000000</td>\n",
       "      <td>295.000000</td>\n",
       "      <td>295.000000</td>\n",
       "    </tr>\n",
       "    <tr>\n",
       "      <th>mean</th>\n",
       "      <td>54.515254</td>\n",
       "      <td>0.681356</td>\n",
       "      <td>246.589831</td>\n",
       "      <td>0.145763</td>\n",
       "      <td>0.532203</td>\n",
       "      <td>149.169492</td>\n",
       "      <td>0.332203</td>\n",
       "      <td>1.061356</td>\n",
       "      <td>0.745763</td>\n",
       "      <td>2.315254</td>\n",
       "      <td>0.532203</td>\n",
       "    </tr>\n",
       "    <tr>\n",
       "      <th>std</th>\n",
       "      <td>9.032383</td>\n",
       "      <td>0.466742</td>\n",
       "      <td>52.025549</td>\n",
       "      <td>0.353468</td>\n",
       "      <td>0.526328</td>\n",
       "      <td>22.866183</td>\n",
       "      <td>0.471804</td>\n",
       "      <td>1.166540</td>\n",
       "      <td>1.030046</td>\n",
       "      <td>0.616335</td>\n",
       "      <td>0.499810</td>\n",
       "    </tr>\n",
       "    <tr>\n",
       "      <th>min</th>\n",
       "      <td>34.000000</td>\n",
       "      <td>0.000000</td>\n",
       "      <td>126.000000</td>\n",
       "      <td>0.000000</td>\n",
       "      <td>0.000000</td>\n",
       "      <td>71.000000</td>\n",
       "      <td>0.000000</td>\n",
       "      <td>0.000000</td>\n",
       "      <td>0.000000</td>\n",
       "      <td>0.000000</td>\n",
       "      <td>0.000000</td>\n",
       "    </tr>\n",
       "    <tr>\n",
       "      <th>25%</th>\n",
       "      <td>48.000000</td>\n",
       "      <td>0.000000</td>\n",
       "      <td>211.500000</td>\n",
       "      <td>0.000000</td>\n",
       "      <td>0.000000</td>\n",
       "      <td>132.500000</td>\n",
       "      <td>0.000000</td>\n",
       "      <td>0.000000</td>\n",
       "      <td>0.000000</td>\n",
       "      <td>2.000000</td>\n",
       "      <td>0.000000</td>\n",
       "    </tr>\n",
       "    <tr>\n",
       "      <th>50%</th>\n",
       "      <td>56.000000</td>\n",
       "      <td>1.000000</td>\n",
       "      <td>240.000000</td>\n",
       "      <td>0.000000</td>\n",
       "      <td>1.000000</td>\n",
       "      <td>152.000000</td>\n",
       "      <td>0.000000</td>\n",
       "      <td>0.800000</td>\n",
       "      <td>0.000000</td>\n",
       "      <td>2.000000</td>\n",
       "      <td>1.000000</td>\n",
       "    </tr>\n",
       "    <tr>\n",
       "      <th>75%</th>\n",
       "      <td>61.000000</td>\n",
       "      <td>1.000000</td>\n",
       "      <td>275.000000</td>\n",
       "      <td>0.000000</td>\n",
       "      <td>1.000000</td>\n",
       "      <td>166.000000</td>\n",
       "      <td>1.000000</td>\n",
       "      <td>1.700000</td>\n",
       "      <td>1.000000</td>\n",
       "      <td>3.000000</td>\n",
       "      <td>1.000000</td>\n",
       "    </tr>\n",
       "    <tr>\n",
       "      <th>max</th>\n",
       "      <td>77.000000</td>\n",
       "      <td>1.000000</td>\n",
       "      <td>564.000000</td>\n",
       "      <td>1.000000</td>\n",
       "      <td>2.000000</td>\n",
       "      <td>195.000000</td>\n",
       "      <td>1.000000</td>\n",
       "      <td>6.200000</td>\n",
       "      <td>4.000000</td>\n",
       "      <td>3.000000</td>\n",
       "      <td>1.000000</td>\n",
       "    </tr>\n",
       "  </tbody>\n",
       "</table>\n",
       "</div>"
      ],
      "text/plain": [
       "              age         sex        chol         fbs     restecg     thalach  \\\n",
       "count  295.000000  295.000000  295.000000  295.000000  295.000000  295.000000   \n",
       "mean    54.515254    0.681356  246.589831    0.145763    0.532203  149.169492   \n",
       "std      9.032383    0.466742   52.025549    0.353468    0.526328   22.866183   \n",
       "min     34.000000    0.000000  126.000000    0.000000    0.000000   71.000000   \n",
       "25%     48.000000    0.000000  211.500000    0.000000    0.000000  132.500000   \n",
       "50%     56.000000    1.000000  240.000000    0.000000    1.000000  152.000000   \n",
       "75%     61.000000    1.000000  275.000000    0.000000    1.000000  166.000000   \n",
       "max     77.000000    1.000000  564.000000    1.000000    2.000000  195.000000   \n",
       "\n",
       "            exang     oldpeak          ca        thal      target  \n",
       "count  295.000000  295.000000  295.000000  295.000000  295.000000  \n",
       "mean     0.332203    1.061356    0.745763    2.315254    0.532203  \n",
       "std      0.471804    1.166540    1.030046    0.616335    0.499810  \n",
       "min      0.000000    0.000000    0.000000    0.000000    0.000000  \n",
       "25%      0.000000    0.000000    0.000000    2.000000    0.000000  \n",
       "50%      0.000000    0.800000    0.000000    2.000000    1.000000  \n",
       "75%      1.000000    1.700000    1.000000    3.000000    1.000000  \n",
       "max      1.000000    6.200000    4.000000    3.000000    1.000000  "
      ]
     },
     "execution_count": 18,
     "metadata": {},
     "output_type": "execute_result"
    }
   ],
   "source": [
    "df1.dropna(inplace=True)\n",
    "df1.describe()"
   ]
  },
  {
   "cell_type": "code",
   "execution_count": 19,
   "id": "8da35bb0",
   "metadata": {},
   "outputs": [
    {
     "name": "stdout",
     "output_type": "stream",
     "text": [
      "\n",
      " The total number of missing values for each column:\n",
      "\n",
      " age        0\n",
      "sex        0\n",
      "chol       0\n",
      "fbs        0\n",
      "restecg    0\n",
      "thalach    0\n",
      "exang      0\n",
      "oldpeak    0\n",
      "ca         0\n",
      "thal       0\n",
      "target     0\n",
      "dtype: int64\n"
     ]
    }
   ],
   "source": [
    "print(\"\\n The total number of missing values for each column:\\n\\n\", df1.isnull().sum())"
   ]
  },
  {
   "cell_type": "code",
   "execution_count": 20,
   "id": "8970a731",
   "metadata": {},
   "outputs": [],
   "source": [
    "##Type one error = Missing values done!\n",
    "##Type 2 error = Noise"
   ]
  },
  {
   "cell_type": "code",
   "execution_count": 21,
   "id": "03ef43e0",
   "metadata": {},
   "outputs": [],
   "source": [
    "##oldpeak< 5\n",
    "###thalach >80\n",
    "####chol <500"
   ]
  },
  {
   "cell_type": "code",
   "execution_count": 22,
   "id": "763a8c7c",
   "metadata": {},
   "outputs": [
    {
     "data": {
      "text/plain": [
       "85     564.0\n",
       "28     417.0\n",
       "246    409.0\n",
       "Name: chol, dtype: float64"
      ]
     },
     "execution_count": 22,
     "metadata": {},
     "output_type": "execute_result"
    }
   ],
   "source": [
    "High = df1[\"chol\"].nlargest(3)\n",
    "High"
   ]
  },
  {
   "cell_type": "code",
   "execution_count": 23,
   "id": "d7a6ea47",
   "metadata": {},
   "outputs": [],
   "source": [
    "###we will drop 564"
   ]
  },
  {
   "cell_type": "code",
   "execution_count": 24,
   "id": "b708d13c",
   "metadata": {},
   "outputs": [
    {
     "data": {
      "text/html": [
       "<div>\n",
       "<style scoped>\n",
       "    .dataframe tbody tr th:only-of-type {\n",
       "        vertical-align: middle;\n",
       "    }\n",
       "\n",
       "    .dataframe tbody tr th {\n",
       "        vertical-align: top;\n",
       "    }\n",
       "\n",
       "    .dataframe thead th {\n",
       "        text-align: right;\n",
       "    }\n",
       "</style>\n",
       "<table border=\"1\" class=\"dataframe\">\n",
       "  <thead>\n",
       "    <tr style=\"text-align: right;\">\n",
       "      <th></th>\n",
       "      <th>age</th>\n",
       "      <th>sex</th>\n",
       "      <th>chol</th>\n",
       "      <th>fbs</th>\n",
       "      <th>restecg</th>\n",
       "      <th>thalach</th>\n",
       "      <th>exang</th>\n",
       "      <th>oldpeak</th>\n",
       "      <th>ca</th>\n",
       "      <th>thal</th>\n",
       "      <th>target</th>\n",
       "    </tr>\n",
       "  </thead>\n",
       "  <tbody>\n",
       "    <tr>\n",
       "      <th>0</th>\n",
       "      <td>63</td>\n",
       "      <td>1.0</td>\n",
       "      <td>233.0</td>\n",
       "      <td>1.0</td>\n",
       "      <td>0</td>\n",
       "      <td>150.0</td>\n",
       "      <td>0</td>\n",
       "      <td>2.3</td>\n",
       "      <td>0.0</td>\n",
       "      <td>1</td>\n",
       "      <td>1.0</td>\n",
       "    </tr>\n",
       "    <tr>\n",
       "      <th>1</th>\n",
       "      <td>37</td>\n",
       "      <td>1.0</td>\n",
       "      <td>250.0</td>\n",
       "      <td>0.0</td>\n",
       "      <td>1</td>\n",
       "      <td>187.0</td>\n",
       "      <td>0</td>\n",
       "      <td>3.5</td>\n",
       "      <td>0.0</td>\n",
       "      <td>2</td>\n",
       "      <td>1.0</td>\n",
       "    </tr>\n",
       "    <tr>\n",
       "      <th>2</th>\n",
       "      <td>41</td>\n",
       "      <td>0.0</td>\n",
       "      <td>204.0</td>\n",
       "      <td>0.0</td>\n",
       "      <td>0</td>\n",
       "      <td>172.0</td>\n",
       "      <td>0</td>\n",
       "      <td>1.4</td>\n",
       "      <td>0.0</td>\n",
       "      <td>2</td>\n",
       "      <td>1.0</td>\n",
       "    </tr>\n",
       "    <tr>\n",
       "      <th>3</th>\n",
       "      <td>56</td>\n",
       "      <td>1.0</td>\n",
       "      <td>236.0</td>\n",
       "      <td>0.0</td>\n",
       "      <td>1</td>\n",
       "      <td>178.0</td>\n",
       "      <td>0</td>\n",
       "      <td>0.8</td>\n",
       "      <td>0.0</td>\n",
       "      <td>2</td>\n",
       "      <td>1.0</td>\n",
       "    </tr>\n",
       "    <tr>\n",
       "      <th>4</th>\n",
       "      <td>57</td>\n",
       "      <td>0.0</td>\n",
       "      <td>354.0</td>\n",
       "      <td>0.0</td>\n",
       "      <td>1</td>\n",
       "      <td>163.0</td>\n",
       "      <td>1</td>\n",
       "      <td>0.6</td>\n",
       "      <td>0.0</td>\n",
       "      <td>2</td>\n",
       "      <td>1.0</td>\n",
       "    </tr>\n",
       "    <tr>\n",
       "      <th>...</th>\n",
       "      <td>...</td>\n",
       "      <td>...</td>\n",
       "      <td>...</td>\n",
       "      <td>...</td>\n",
       "      <td>...</td>\n",
       "      <td>...</td>\n",
       "      <td>...</td>\n",
       "      <td>...</td>\n",
       "      <td>...</td>\n",
       "      <td>...</td>\n",
       "      <td>...</td>\n",
       "    </tr>\n",
       "    <tr>\n",
       "      <th>298</th>\n",
       "      <td>57</td>\n",
       "      <td>0.0</td>\n",
       "      <td>241.0</td>\n",
       "      <td>0.0</td>\n",
       "      <td>1</td>\n",
       "      <td>123.0</td>\n",
       "      <td>1</td>\n",
       "      <td>0.2</td>\n",
       "      <td>0.0</td>\n",
       "      <td>3</td>\n",
       "      <td>0.0</td>\n",
       "    </tr>\n",
       "    <tr>\n",
       "      <th>299</th>\n",
       "      <td>45</td>\n",
       "      <td>1.0</td>\n",
       "      <td>264.0</td>\n",
       "      <td>0.0</td>\n",
       "      <td>1</td>\n",
       "      <td>132.0</td>\n",
       "      <td>0</td>\n",
       "      <td>1.2</td>\n",
       "      <td>0.0</td>\n",
       "      <td>3</td>\n",
       "      <td>0.0</td>\n",
       "    </tr>\n",
       "    <tr>\n",
       "      <th>300</th>\n",
       "      <td>68</td>\n",
       "      <td>1.0</td>\n",
       "      <td>193.0</td>\n",
       "      <td>1.0</td>\n",
       "      <td>1</td>\n",
       "      <td>141.0</td>\n",
       "      <td>0</td>\n",
       "      <td>3.4</td>\n",
       "      <td>2.0</td>\n",
       "      <td>3</td>\n",
       "      <td>0.0</td>\n",
       "    </tr>\n",
       "    <tr>\n",
       "      <th>301</th>\n",
       "      <td>57</td>\n",
       "      <td>1.0</td>\n",
       "      <td>131.0</td>\n",
       "      <td>0.0</td>\n",
       "      <td>1</td>\n",
       "      <td>115.0</td>\n",
       "      <td>1</td>\n",
       "      <td>1.2</td>\n",
       "      <td>1.0</td>\n",
       "      <td>3</td>\n",
       "      <td>0.0</td>\n",
       "    </tr>\n",
       "    <tr>\n",
       "      <th>302</th>\n",
       "      <td>57</td>\n",
       "      <td>0.0</td>\n",
       "      <td>236.0</td>\n",
       "      <td>0.0</td>\n",
       "      <td>0</td>\n",
       "      <td>174.0</td>\n",
       "      <td>0</td>\n",
       "      <td>0.0</td>\n",
       "      <td>1.0</td>\n",
       "      <td>2</td>\n",
       "      <td>0.0</td>\n",
       "    </tr>\n",
       "  </tbody>\n",
       "</table>\n",
       "<p>294 rows × 11 columns</p>\n",
       "</div>"
      ],
      "text/plain": [
       "     age  sex   chol  fbs  restecg  thalach  exang  oldpeak   ca  thal  target\n",
       "0     63  1.0  233.0  1.0        0    150.0      0      2.3  0.0     1     1.0\n",
       "1     37  1.0  250.0  0.0        1    187.0      0      3.5  0.0     2     1.0\n",
       "2     41  0.0  204.0  0.0        0    172.0      0      1.4  0.0     2     1.0\n",
       "3     56  1.0  236.0  0.0        1    178.0      0      0.8  0.0     2     1.0\n",
       "4     57  0.0  354.0  0.0        1    163.0      1      0.6  0.0     2     1.0\n",
       "..   ...  ...    ...  ...      ...      ...    ...      ...  ...   ...     ...\n",
       "298   57  0.0  241.0  0.0        1    123.0      1      0.2  0.0     3     0.0\n",
       "299   45  1.0  264.0  0.0        1    132.0      0      1.2  0.0     3     0.0\n",
       "300   68  1.0  193.0  1.0        1    141.0      0      3.4  2.0     3     0.0\n",
       "301   57  1.0  131.0  0.0        1    115.0      1      1.2  1.0     3     0.0\n",
       "302   57  0.0  236.0  0.0        0    174.0      0      0.0  1.0     2     0.0\n",
       "\n",
       "[294 rows x 11 columns]"
      ]
     },
     "execution_count": 24,
     "metadata": {},
     "output_type": "execute_result"
    }
   ],
   "source": [
    "df2=df1[df1[\"chol\"]<564]\n",
    "df2"
   ]
  },
  {
   "cell_type": "code",
   "execution_count": 25,
   "id": "63daffdf",
   "metadata": {},
   "outputs": [
    {
     "data": {
      "text/plain": [
       "272    71.0\n",
       "243    88.0\n",
       "297    90.0\n",
       "Name: thalach, dtype: float64"
      ]
     },
     "execution_count": 25,
     "metadata": {},
     "output_type": "execute_result"
    }
   ],
   "source": [
    "small=df1[\"thalach\"].nsmallest(3)\n",
    "small"
   ]
  },
  {
   "cell_type": "code",
   "execution_count": 26,
   "id": "d039a2bd",
   "metadata": {},
   "outputs": [
    {
     "data": {
      "text/html": [
       "<div>\n",
       "<style scoped>\n",
       "    .dataframe tbody tr th:only-of-type {\n",
       "        vertical-align: middle;\n",
       "    }\n",
       "\n",
       "    .dataframe tbody tr th {\n",
       "        vertical-align: top;\n",
       "    }\n",
       "\n",
       "    .dataframe thead th {\n",
       "        text-align: right;\n",
       "    }\n",
       "</style>\n",
       "<table border=\"1\" class=\"dataframe\">\n",
       "  <thead>\n",
       "    <tr style=\"text-align: right;\">\n",
       "      <th></th>\n",
       "      <th>age</th>\n",
       "      <th>sex</th>\n",
       "      <th>chol</th>\n",
       "      <th>fbs</th>\n",
       "      <th>restecg</th>\n",
       "      <th>thalach</th>\n",
       "      <th>exang</th>\n",
       "      <th>oldpeak</th>\n",
       "      <th>ca</th>\n",
       "      <th>thal</th>\n",
       "      <th>target</th>\n",
       "    </tr>\n",
       "  </thead>\n",
       "  <tbody>\n",
       "    <tr>\n",
       "      <th>0</th>\n",
       "      <td>63</td>\n",
       "      <td>1.0</td>\n",
       "      <td>233.0</td>\n",
       "      <td>1.0</td>\n",
       "      <td>0</td>\n",
       "      <td>150.0</td>\n",
       "      <td>0</td>\n",
       "      <td>2.3</td>\n",
       "      <td>0.0</td>\n",
       "      <td>1</td>\n",
       "      <td>1.0</td>\n",
       "    </tr>\n",
       "    <tr>\n",
       "      <th>1</th>\n",
       "      <td>37</td>\n",
       "      <td>1.0</td>\n",
       "      <td>250.0</td>\n",
       "      <td>0.0</td>\n",
       "      <td>1</td>\n",
       "      <td>187.0</td>\n",
       "      <td>0</td>\n",
       "      <td>3.5</td>\n",
       "      <td>0.0</td>\n",
       "      <td>2</td>\n",
       "      <td>1.0</td>\n",
       "    </tr>\n",
       "    <tr>\n",
       "      <th>2</th>\n",
       "      <td>41</td>\n",
       "      <td>0.0</td>\n",
       "      <td>204.0</td>\n",
       "      <td>0.0</td>\n",
       "      <td>0</td>\n",
       "      <td>172.0</td>\n",
       "      <td>0</td>\n",
       "      <td>1.4</td>\n",
       "      <td>0.0</td>\n",
       "      <td>2</td>\n",
       "      <td>1.0</td>\n",
       "    </tr>\n",
       "    <tr>\n",
       "      <th>3</th>\n",
       "      <td>56</td>\n",
       "      <td>1.0</td>\n",
       "      <td>236.0</td>\n",
       "      <td>0.0</td>\n",
       "      <td>1</td>\n",
       "      <td>178.0</td>\n",
       "      <td>0</td>\n",
       "      <td>0.8</td>\n",
       "      <td>0.0</td>\n",
       "      <td>2</td>\n",
       "      <td>1.0</td>\n",
       "    </tr>\n",
       "    <tr>\n",
       "      <th>4</th>\n",
       "      <td>57</td>\n",
       "      <td>0.0</td>\n",
       "      <td>354.0</td>\n",
       "      <td>0.0</td>\n",
       "      <td>1</td>\n",
       "      <td>163.0</td>\n",
       "      <td>1</td>\n",
       "      <td>0.6</td>\n",
       "      <td>0.0</td>\n",
       "      <td>2</td>\n",
       "      <td>1.0</td>\n",
       "    </tr>\n",
       "    <tr>\n",
       "      <th>...</th>\n",
       "      <td>...</td>\n",
       "      <td>...</td>\n",
       "      <td>...</td>\n",
       "      <td>...</td>\n",
       "      <td>...</td>\n",
       "      <td>...</td>\n",
       "      <td>...</td>\n",
       "      <td>...</td>\n",
       "      <td>...</td>\n",
       "      <td>...</td>\n",
       "      <td>...</td>\n",
       "    </tr>\n",
       "    <tr>\n",
       "      <th>298</th>\n",
       "      <td>57</td>\n",
       "      <td>0.0</td>\n",
       "      <td>241.0</td>\n",
       "      <td>0.0</td>\n",
       "      <td>1</td>\n",
       "      <td>123.0</td>\n",
       "      <td>1</td>\n",
       "      <td>0.2</td>\n",
       "      <td>0.0</td>\n",
       "      <td>3</td>\n",
       "      <td>0.0</td>\n",
       "    </tr>\n",
       "    <tr>\n",
       "      <th>299</th>\n",
       "      <td>45</td>\n",
       "      <td>1.0</td>\n",
       "      <td>264.0</td>\n",
       "      <td>0.0</td>\n",
       "      <td>1</td>\n",
       "      <td>132.0</td>\n",
       "      <td>0</td>\n",
       "      <td>1.2</td>\n",
       "      <td>0.0</td>\n",
       "      <td>3</td>\n",
       "      <td>0.0</td>\n",
       "    </tr>\n",
       "    <tr>\n",
       "      <th>300</th>\n",
       "      <td>68</td>\n",
       "      <td>1.0</td>\n",
       "      <td>193.0</td>\n",
       "      <td>1.0</td>\n",
       "      <td>1</td>\n",
       "      <td>141.0</td>\n",
       "      <td>0</td>\n",
       "      <td>3.4</td>\n",
       "      <td>2.0</td>\n",
       "      <td>3</td>\n",
       "      <td>0.0</td>\n",
       "    </tr>\n",
       "    <tr>\n",
       "      <th>301</th>\n",
       "      <td>57</td>\n",
       "      <td>1.0</td>\n",
       "      <td>131.0</td>\n",
       "      <td>0.0</td>\n",
       "      <td>1</td>\n",
       "      <td>115.0</td>\n",
       "      <td>1</td>\n",
       "      <td>1.2</td>\n",
       "      <td>1.0</td>\n",
       "      <td>3</td>\n",
       "      <td>0.0</td>\n",
       "    </tr>\n",
       "    <tr>\n",
       "      <th>302</th>\n",
       "      <td>57</td>\n",
       "      <td>0.0</td>\n",
       "      <td>236.0</td>\n",
       "      <td>0.0</td>\n",
       "      <td>0</td>\n",
       "      <td>174.0</td>\n",
       "      <td>0</td>\n",
       "      <td>0.0</td>\n",
       "      <td>1.0</td>\n",
       "      <td>2</td>\n",
       "      <td>0.0</td>\n",
       "    </tr>\n",
       "  </tbody>\n",
       "</table>\n",
       "<p>293 rows × 11 columns</p>\n",
       "</div>"
      ],
      "text/plain": [
       "     age  sex   chol  fbs  restecg  thalach  exang  oldpeak   ca  thal  target\n",
       "0     63  1.0  233.0  1.0        0    150.0      0      2.3  0.0     1     1.0\n",
       "1     37  1.0  250.0  0.0        1    187.0      0      3.5  0.0     2     1.0\n",
       "2     41  0.0  204.0  0.0        0    172.0      0      1.4  0.0     2     1.0\n",
       "3     56  1.0  236.0  0.0        1    178.0      0      0.8  0.0     2     1.0\n",
       "4     57  0.0  354.0  0.0        1    163.0      1      0.6  0.0     2     1.0\n",
       "..   ...  ...    ...  ...      ...      ...    ...      ...  ...   ...     ...\n",
       "298   57  0.0  241.0  0.0        1    123.0      1      0.2  0.0     3     0.0\n",
       "299   45  1.0  264.0  0.0        1    132.0      0      1.2  0.0     3     0.0\n",
       "300   68  1.0  193.0  1.0        1    141.0      0      3.4  2.0     3     0.0\n",
       "301   57  1.0  131.0  0.0        1    115.0      1      1.2  1.0     3     0.0\n",
       "302   57  0.0  236.0  0.0        0    174.0      0      0.0  1.0     2     0.0\n",
       "\n",
       "[293 rows x 11 columns]"
      ]
     },
     "execution_count": 26,
     "metadata": {},
     "output_type": "execute_result"
    }
   ],
   "source": [
    "df3=df2[df2[\"thalach\"]>71]\n",
    "df3"
   ]
  },
  {
   "cell_type": "code",
   "execution_count": 27,
   "id": "72fa4c4f",
   "metadata": {},
   "outputs": [
    {
     "data": {
      "text/plain": [
       "204    6.2\n",
       "221    5.6\n",
       "291    4.4\n",
       "Name: oldpeak, dtype: float64"
      ]
     },
     "execution_count": 27,
     "metadata": {},
     "output_type": "execute_result"
    }
   ],
   "source": [
    "High2= df3[\"oldpeak\"].nlargest(3)\n",
    "High2"
   ]
  },
  {
   "cell_type": "code",
   "execution_count": 28,
   "id": "a5b99d54",
   "metadata": {},
   "outputs": [
    {
     "data": {
      "text/html": [
       "<div>\n",
       "<style scoped>\n",
       "    .dataframe tbody tr th:only-of-type {\n",
       "        vertical-align: middle;\n",
       "    }\n",
       "\n",
       "    .dataframe tbody tr th {\n",
       "        vertical-align: top;\n",
       "    }\n",
       "\n",
       "    .dataframe thead th {\n",
       "        text-align: right;\n",
       "    }\n",
       "</style>\n",
       "<table border=\"1\" class=\"dataframe\">\n",
       "  <thead>\n",
       "    <tr style=\"text-align: right;\">\n",
       "      <th></th>\n",
       "      <th>age</th>\n",
       "      <th>sex</th>\n",
       "      <th>chol</th>\n",
       "      <th>fbs</th>\n",
       "      <th>restecg</th>\n",
       "      <th>thalach</th>\n",
       "      <th>exang</th>\n",
       "      <th>oldpeak</th>\n",
       "      <th>ca</th>\n",
       "      <th>thal</th>\n",
       "      <th>target</th>\n",
       "    </tr>\n",
       "  </thead>\n",
       "  <tbody>\n",
       "    <tr>\n",
       "      <th>0</th>\n",
       "      <td>63</td>\n",
       "      <td>1.0</td>\n",
       "      <td>233.0</td>\n",
       "      <td>1.0</td>\n",
       "      <td>0</td>\n",
       "      <td>150.0</td>\n",
       "      <td>0</td>\n",
       "      <td>2.3</td>\n",
       "      <td>0.0</td>\n",
       "      <td>1</td>\n",
       "      <td>1.0</td>\n",
       "    </tr>\n",
       "    <tr>\n",
       "      <th>1</th>\n",
       "      <td>37</td>\n",
       "      <td>1.0</td>\n",
       "      <td>250.0</td>\n",
       "      <td>0.0</td>\n",
       "      <td>1</td>\n",
       "      <td>187.0</td>\n",
       "      <td>0</td>\n",
       "      <td>3.5</td>\n",
       "      <td>0.0</td>\n",
       "      <td>2</td>\n",
       "      <td>1.0</td>\n",
       "    </tr>\n",
       "    <tr>\n",
       "      <th>2</th>\n",
       "      <td>41</td>\n",
       "      <td>0.0</td>\n",
       "      <td>204.0</td>\n",
       "      <td>0.0</td>\n",
       "      <td>0</td>\n",
       "      <td>172.0</td>\n",
       "      <td>0</td>\n",
       "      <td>1.4</td>\n",
       "      <td>0.0</td>\n",
       "      <td>2</td>\n",
       "      <td>1.0</td>\n",
       "    </tr>\n",
       "    <tr>\n",
       "      <th>3</th>\n",
       "      <td>56</td>\n",
       "      <td>1.0</td>\n",
       "      <td>236.0</td>\n",
       "      <td>0.0</td>\n",
       "      <td>1</td>\n",
       "      <td>178.0</td>\n",
       "      <td>0</td>\n",
       "      <td>0.8</td>\n",
       "      <td>0.0</td>\n",
       "      <td>2</td>\n",
       "      <td>1.0</td>\n",
       "    </tr>\n",
       "    <tr>\n",
       "      <th>4</th>\n",
       "      <td>57</td>\n",
       "      <td>0.0</td>\n",
       "      <td>354.0</td>\n",
       "      <td>0.0</td>\n",
       "      <td>1</td>\n",
       "      <td>163.0</td>\n",
       "      <td>1</td>\n",
       "      <td>0.6</td>\n",
       "      <td>0.0</td>\n",
       "      <td>2</td>\n",
       "      <td>1.0</td>\n",
       "    </tr>\n",
       "    <tr>\n",
       "      <th>...</th>\n",
       "      <td>...</td>\n",
       "      <td>...</td>\n",
       "      <td>...</td>\n",
       "      <td>...</td>\n",
       "      <td>...</td>\n",
       "      <td>...</td>\n",
       "      <td>...</td>\n",
       "      <td>...</td>\n",
       "      <td>...</td>\n",
       "      <td>...</td>\n",
       "      <td>...</td>\n",
       "    </tr>\n",
       "    <tr>\n",
       "      <th>298</th>\n",
       "      <td>57</td>\n",
       "      <td>0.0</td>\n",
       "      <td>241.0</td>\n",
       "      <td>0.0</td>\n",
       "      <td>1</td>\n",
       "      <td>123.0</td>\n",
       "      <td>1</td>\n",
       "      <td>0.2</td>\n",
       "      <td>0.0</td>\n",
       "      <td>3</td>\n",
       "      <td>0.0</td>\n",
       "    </tr>\n",
       "    <tr>\n",
       "      <th>299</th>\n",
       "      <td>45</td>\n",
       "      <td>1.0</td>\n",
       "      <td>264.0</td>\n",
       "      <td>0.0</td>\n",
       "      <td>1</td>\n",
       "      <td>132.0</td>\n",
       "      <td>0</td>\n",
       "      <td>1.2</td>\n",
       "      <td>0.0</td>\n",
       "      <td>3</td>\n",
       "      <td>0.0</td>\n",
       "    </tr>\n",
       "    <tr>\n",
       "      <th>300</th>\n",
       "      <td>68</td>\n",
       "      <td>1.0</td>\n",
       "      <td>193.0</td>\n",
       "      <td>1.0</td>\n",
       "      <td>1</td>\n",
       "      <td>141.0</td>\n",
       "      <td>0</td>\n",
       "      <td>3.4</td>\n",
       "      <td>2.0</td>\n",
       "      <td>3</td>\n",
       "      <td>0.0</td>\n",
       "    </tr>\n",
       "    <tr>\n",
       "      <th>301</th>\n",
       "      <td>57</td>\n",
       "      <td>1.0</td>\n",
       "      <td>131.0</td>\n",
       "      <td>0.0</td>\n",
       "      <td>1</td>\n",
       "      <td>115.0</td>\n",
       "      <td>1</td>\n",
       "      <td>1.2</td>\n",
       "      <td>1.0</td>\n",
       "      <td>3</td>\n",
       "      <td>0.0</td>\n",
       "    </tr>\n",
       "    <tr>\n",
       "      <th>302</th>\n",
       "      <td>57</td>\n",
       "      <td>0.0</td>\n",
       "      <td>236.0</td>\n",
       "      <td>0.0</td>\n",
       "      <td>0</td>\n",
       "      <td>174.0</td>\n",
       "      <td>0</td>\n",
       "      <td>0.0</td>\n",
       "      <td>1.0</td>\n",
       "      <td>2</td>\n",
       "      <td>0.0</td>\n",
       "    </tr>\n",
       "  </tbody>\n",
       "</table>\n",
       "<p>291 rows × 11 columns</p>\n",
       "</div>"
      ],
      "text/plain": [
       "     age  sex   chol  fbs  restecg  thalach  exang  oldpeak   ca  thal  target\n",
       "0     63  1.0  233.0  1.0        0    150.0      0      2.3  0.0     1     1.0\n",
       "1     37  1.0  250.0  0.0        1    187.0      0      3.5  0.0     2     1.0\n",
       "2     41  0.0  204.0  0.0        0    172.0      0      1.4  0.0     2     1.0\n",
       "3     56  1.0  236.0  0.0        1    178.0      0      0.8  0.0     2     1.0\n",
       "4     57  0.0  354.0  0.0        1    163.0      1      0.6  0.0     2     1.0\n",
       "..   ...  ...    ...  ...      ...      ...    ...      ...  ...   ...     ...\n",
       "298   57  0.0  241.0  0.0        1    123.0      1      0.2  0.0     3     0.0\n",
       "299   45  1.0  264.0  0.0        1    132.0      0      1.2  0.0     3     0.0\n",
       "300   68  1.0  193.0  1.0        1    141.0      0      3.4  2.0     3     0.0\n",
       "301   57  1.0  131.0  0.0        1    115.0      1      1.2  1.0     3     0.0\n",
       "302   57  0.0  236.0  0.0        0    174.0      0      0.0  1.0     2     0.0\n",
       "\n",
       "[291 rows x 11 columns]"
      ]
     },
     "execution_count": 28,
     "metadata": {},
     "output_type": "execute_result"
    }
   ],
   "source": [
    "Df = df3[df3[\"oldpeak\"]<5.6]\n",
    "Df"
   ]
  },
  {
   "cell_type": "code",
   "execution_count": 29,
   "id": "7b597259",
   "metadata": {},
   "outputs": [],
   "source": [
    "#Now we get ride of missing values and noises, so we take some plots to see "
   ]
  },
  {
   "cell_type": "code",
   "execution_count": 30,
   "id": "b4504dfd",
   "metadata": {},
   "outputs": [
    {
     "data": {
      "text/plain": [
       "<matplotlib.collections.PathCollection at 0x14611e1d0>"
      ]
     },
     "execution_count": 30,
     "metadata": {},
     "output_type": "execute_result"
    },
    {
     "data": {
      "image/png": "[encoded data removed]",
      "text/plain": [
       "<Figure size 640x480 with 1 Axes>"
      ]
     },
     "metadata": {},
     "output_type": "display_data"
    }
   ],
   "source": [
    "plt.scatter(df[\"chol\"], df[\"target\"])"
   ]
  },
  {
   "cell_type": "code",
   "execution_count": 31,
   "id": "88015211",
   "metadata": {},
   "outputs": [
    {
     "data": {
      "text/plain": [
       "<matplotlib.collections.PathCollection at 0x1461e08d0>"
      ]
     },
     "execution_count": 31,
     "metadata": {},
     "output_type": "execute_result"
    },
    {
     "data": {
      "image/png": "[encoded data removed]",
      "text/plain": [
       "<Figure size 640x480 with 1 Axes>"
      ]
     },
     "metadata": {},
     "output_type": "display_data"
    }
   ],
   "source": [
    "plt.scatter(Df[\"chol\"], Df[\"target\"])"
   ]
  },
  {
   "cell_type": "code",
   "execution_count": 32,
   "id": "e025f3ba",
   "metadata": {},
   "outputs": [
    {
     "data": {
      "text/plain": [
       "<matplotlib.collections.PathCollection at 0x1462422d0>"
      ]
     },
     "execution_count": 32,
     "metadata": {},
     "output_type": "execute_result"
    },
    {
     "data": {
      "image/png": "[encoded data removed]",
      "text/plain": [
       "<Figure size 640x480 with 1 Axes>"
      ]
     },
     "metadata": {},
     "output_type": "display_data"
    }
   ],
   "source": [
    "plt.scatter(df[\"oldpeak\"],df[\"target\"])"
   ]
  },
  {
   "cell_type": "code",
   "execution_count": 33,
   "id": "82e48ee1",
   "metadata": {},
   "outputs": [
    {
     "data": {
      "text/plain": [
       "<matplotlib.collections.PathCollection at 0x1462812d0>"
      ]
     },
     "execution_count": 33,
     "metadata": {},
     "output_type": "execute_result"
    },
    {
     "data": {
      "image/png": "[encoded data removed]",
      "text/plain": [
       "<Figure size 640x480 with 1 Axes>"
      ]
     },
     "metadata": {},
     "output_type": "display_data"
    }
   ],
   "source": [
    "plt.scatter(Df[\"oldpeak\"],Df[\"target\"])"
   ]
  },
  {
   "cell_type": "code",
   "execution_count": 34,
   "id": "65e6b480",
   "metadata": {},
   "outputs": [
    {
     "data": {
      "text/plain": [
       "<matplotlib.collections.PathCollection at 0x146325ed0>"
      ]
     },
     "execution_count": 34,
     "metadata": {},
     "output_type": "execute_result"
    },
    {
     "data": {
      "image/png": "[encoded data removed]",
      "text/plain": [
       "<Figure size 640x480 with 1 Axes>"
      ]
     },
     "metadata": {},
     "output_type": "display_data"
    }
   ],
   "source": [
    "plt.scatter(df[\"thalach\"],df[\"target\"])"
   ]
  },
  {
   "cell_type": "code",
   "execution_count": 35,
   "id": "4c3dee2f",
   "metadata": {},
   "outputs": [
    {
     "data": {
      "text/plain": [
       "<matplotlib.collections.PathCollection at 0x14636e650>"
      ]
     },
     "execution_count": 35,
     "metadata": {},
     "output_type": "execute_result"
    },
    {
     "data": {
      "image/png": "[encoded data removed]",
      "text/plain": [
       "<Figure size 640x480 with 1 Axes>"
      ]
     },
     "metadata": {},
     "output_type": "display_data"
    }
   ],
   "source": [
    "plt.scatter(Df[\"thalach\"],Df[\"target\"])"
   ]
  },
  {
   "cell_type": "code",
   "execution_count": 36,
   "id": "2395cbbe",
   "metadata": {},
   "outputs": [
    {
     "data": {
      "image/png": "[encoded data removed]",
      "text/plain": [
       "<Figure size 1000x800 with 4 Axes>"
      ]
     },
     "metadata": {},
     "output_type": "display_data"
    }
   ],
   "source": [
    "# Plot histograms for continuous variables\n",
    "Df.hist(column=[\"age\", \"chol\", \"thalach\", \"oldpeak\"], bins=20, figsize=(10, 8))\n",
    "plt.show()"
   ]
  },
  {
   "cell_type": "code",
   "execution_count": 37,
   "id": "e338a04d",
   "metadata": {},
   "outputs": [
    {
     "data": {
      "image/png": "[encoded data removed]",
      "text/plain": [
       "<Figure size 1000x800 with 2 Axes>"
      ]
     },
     "metadata": {},
     "output_type": "display_data"
    }
   ],
   "source": [
    "##b. Correlation Matrix\n",
    "\n",
    "##This will help you see how the features are correlated with each other and the target.\n",
    "\n",
    "import seaborn as sns\n",
    "\n",
    "# Correlation matrix\n",
    "plt.figure(figsize=(10, 8))\n",
    "corr_matrix = df.corr()\n",
    "sns.heatmap(corr_matrix, annot=True, cmap=\"coolwarm\", linewidths=0.5)\n",
    "plt.title(\"Correlation Matrix of Features\")\n",
    "plt.show()\n"
   ]
  },
  {
   "cell_type": "code",
   "execution_count": 38,
   "id": "20ab284f",
   "metadata": {},
   "outputs": [
    {
     "data": {
      "image/png": "[encoded data removed]",
      "text/plain": [
       "<Figure size 800x500 with 1 Axes>"
      ]
     },
     "metadata": {},
     "output_type": "display_data"
    }
   ],
   "source": [
    "# Boxplot to visualize outliers\n",
    "plt.figure(figsize=(8, 5))\n",
    "sns.boxplot(Df[\"chol\"])\n",
    "plt.title(\"Boxplot of Cholesterol\")\n",
    "plt.show()"
   ]
  },
  {
   "cell_type": "markdown",
   "id": "5c96df4e",
   "metadata": {},
   "source": [
    "Loaded the Dataset\n",
    "\n",
    "\n",
    "Explored Dataset Features\n",
    "\n",
    "\n",
    "Identified Missing Values\n",
    "\n",
    "\n",
    "Handled Missing Values\n",
    "\n",
    "\n",
    "Identified Noise in the Data\n",
    "\n",
    "\n",
    "Visualized Data\n",
    "\n",
    "\n",
    "Evaluated Dataset After Cleaning\n",
    "\n",
    "\n",
    "Summarized Key Insights\n",
    "\n",
    "\n",
    "The next step would be to use this cleaned dataset to train a machine learning model that can predict the likelihood of heart disease based on these features.\n",
    "\n",
    "\n",
    "THE END!"
   ]
  },
  {
   "cell_type": "code",
   "execution_count": null,
   "id": "fda45260",
   "metadata": {},
   "outputs": [],
   "source": []
  }
 ],
 "metadata": {
  "kernelspec": {
   "display_name": "Python 3 (ipykernel)",
   "language": "python",
   "name": "python3"
  },
  "language_info": {
   "codemirror_mode": {
    "name": "ipython",
    "version": 3
   },
   "file_extension": ".py",
   "mimetype": "text/x-python",
   "name": "python",
   "nbconvert_exporter": "python",
   "pygments_lexer": "ipython3",
   "version": "3.11.5"
  }
 },
 "nbformat": 4,
 "nbformat_minor": 5
}
