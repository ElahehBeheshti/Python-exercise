{
 "cells": [
  {
   "cell_type": "code",
   "execution_count": 1,
   "metadata": {},
   "outputs": [],
   "source": [
    "###pip install memory-profiler\n",
    "##We installed profiler"
   ]
  },
  {
   "cell_type": "markdown",
   "metadata": {},
   "source": [
    "\n",
    "<h3>Write code with using a profiler to execute a high-performance code.\n",
    "Profile the code using any methods but profile memory and CPU\n"
   ]
  },
  {
   "cell_type": "code",
   "execution_count": 3,
   "metadata": {},
   "outputs": [],
   "source": [
    "import random                           #to generate random numbers\n",
    "import numpy as np                      #for array operations\n",
    "import math                             #for mathematical operations like factorial\n",
    "from functools import reduce            #to apply a function to a list iteratively\n",
    "import cProfile                         #for CPU profiling\n",
    "from memory_profiler import profile     #for memory profiling"
   ]
  },
  {
   "cell_type": "code",
   "execution_count": 4,
   "metadata": {},
   "outputs": [
    {
     "name": "stdout",
     "output_type": "stream",
     "text": [
      "[4345, 164, 12, 3190, 3501, 1685, 2643, 257, 1363, 893, 4438, 3578, 4132, 2827, 4853, 4936, 2868, 1684, 4494, 1725, 3265, 445, 3005, 531, 2598, 1244, 3054, 112, 1641, 2966, 2381, 2632, 3781, 2104, 1170, 4535, 3511, 3102, 3208, 4288, 588, 1027, 4070, 4292, 4187, 3588, 473, 3188, 3947, 2575, 1153, 3761, 4322, 449, 4851, 1752, 4707, 4075, 1818, 4816, 3244, 1967, 2805, 657, 3168, 3346, 442, 2869, 4189, 3624, 1494, 1105, 4670, 499, 4014, 1534, 1354, 2083, 3960, 1773, 1448, 124, 4731, 2671, 4645, 4977, 3688, 2153, 2858, 1506, 1166, 3625, 586, 769, 2145, 4626, 1423, 1742, 2631, 1235, 920, 4555, 2334, 567, 4294, 1767, 4593, 4100, 3212, 934, 1473, 4806, 3800, 1758, 3164, 1872, 41, 1665, 2845, 2786, 2074, 4262, 3178, 1442, 3638, 464, 4786, 4642, 203, 3388, 1649, 4180, 3447, 4637, 924, 2306, 4840, 3124, 3514, 3964, 3141, 4141, 509, 2972, 4401, 2212, 3112, 2779, 4200, 3875, 2638, 4738, 1839, 2904, 1183, 1870, 2136, 4661, 4982, 1095, 4760, 2516, 3621, 4915, 1286, 4203, 1400, 1243, 4186, 3274, 3201, 1886, 4233, 2041, 358, 2158, 4099, 4722, 2087, 4549, 1943, 4032, 3645, 3064, 3655, 2290, 2047, 1683, 2987, 2058, 1759, 1058, 4975, 2775, 4574, 1420, 23, 2346, 3463, 3444, 2137, 18, 3701, 4347, 99, 2172, 1288, 4291, 292, 1985, 4756, 4550, 2610, 438, 514, 3098, 3693, 142, 1271, 64, 3959, 4289, 2407, 1273, 1339, 3900, 2663, 943, 627, 2912, 909, 1429, 1213, 2490, 1341, 2299, 2843, 2068, 2872, 1581, 4624, 3370, 2161, 1260, 3885, 1651, 3990, 2090, 2984, 333, 2580, 1424, 1652, 1380, 779, 2364, 1971, 1909, 4892, 601, 622, 2752, 3749, 1620, 4463, 2410, 2029, 455, 4105, 3765, 1672, 968, 3597, 274, 1735, 4415, 2472, 2878, 1477, 328, 978, 3441, 2267, 1277, 3, 3427, 2596, 3435, 4998, 4162, 2647, 2187, 175, 544, 2003, 1246, 1625, 3754, 4643, 1015, 4366, 3171, 2066, 238, 2408, 2493, 3095, 1616, 2291, 569, 2242, 1370, 168, 1474, 2960, 3679, 702, 3797, 2196, 4283, 4909, 3215, 3109, 3720, 754, 3817, 2071, 1011, 2861, 581, 4889, 3030, 4077, 2288, 1287, 4606, 1237, 453, 1379, 2138, 589, 3681, 2552, 3069, 4654, 3111, 2907, 492, 1154, 1085, 319, 3093, 3229, 954, 3080, 365, 1504, 3475, 110, 3077, 4948, 1618, 169, 1002, 4134, 160, 4599, 4608, 585, 2418, 1793, 4113, 3241, 843, 3857, 138, 3106, 903, 4327, 2150, 4690, 4123, 115, 3294, 1705, 3395, 4376, 392, 3824, 3126, 847, 486, 880, 1917, 3926, 2634, 4458, 1057, 3804, 4603, 3878, 835, 9, 1567, 3644, 425, 3553, 298, 4525, 3734, 2032, 1178, 47, 3385, 193, 1215, 209, 4671, 2919, 2566, 1563, 3483, 1778, 1646, 3016, 4621, 3066, 2448, 3627, 2636, 2503, 3400, 4282, 3276, 3442, 371, 3686, 3822, 2589, 1991, 3471, 2001, 1326, 131, 4386, 3642, 191, 1824, 1163, 1549, 2314, 3048, 4072, 316, 1850, 872, 1001, 770, 2654, 4142, 2246, 3646, 3344, 3613, 2486, 413, 45, 3639, 479, 545, 2338, 307, 1891, 2762, 2204, 3743, 357, 4995, 3996, 4771, 1690, 3369, 851, 2806, 1835, 2883, 4473, 1068, 4542, 1928, 4587, 1323, 1, 268, 1785, 3489, 4364, 574, 4653, 2469, 948, 1736, 36, 37, 1453, 3876, 910, 594, 4231, 3028, 1074, 4403, 929, 4501, 132, 2357, 1901, 2739, 4249, 3649, 2354, 3053, 1072, 2898, 711, 4213, 3301, 1631, 2181, 2401, 4965, 3497, 1118, 3445, 1849, 2491, 1806, 3561, 2446, 2728, 4665, 2269, 2550, 4323, 1757, 3995, 1722, 4831, 1122, 1281, 4343, 4746, 2564, 793, 4879, 680, 4150, 3065, 2220, 3099, 4023, 2751, 3811, 1023, 3630, 281, 2910, 3601, 1265, 2188, 2166, 2676, 3309, 3554, 4026, 4310, 801, 3019, 2788, 2662, 1248, 2754, 4103, 1305, 4857, 2243, 4151, 4742, 1741, 2513, 511, 3238, 2519, 2981, 3548, 4567, 3626, 2339, 3928, 4859, 3579, 563, 4966, 945, 904, 3174, 2249, 1018, 3452, 1576, 1958, 1885, 2729, 4781, 4601, 765, 2990, 1866, 3828, 505, 1412, 1485, 3458, 833, 4577, 1698, 312, 2265, 1662, 1082, 4877, 1051, 1207, 4794, 3454, 518, 2876, 3559, 3793, 2122, 4201, 2977, 2815, 1450, 4741, 2864, 3311, 4043, 3673, 1415, 2049, 4411, 4778, 1536, 2123, 1947, 361, 4137, 989, 2721, 2720, 2621, 985, 2532, 640, 2414, 4843, 2237, 914, 4367, 122, 4724, 3658, 2991, 4596, 4443, 1071, 90, 1865, 2366, 686, 2160, 135, 457, 2128, 1245, 4315, 210, 4924, 1787, 338, 2208, 1711, 944, 2982, 4931, 1404, 4312, 2814, 1481, 3763, 1368, 147, 3962, 863, 988, 3380, 384, 794, 4114, 766, 599, 1654, 1772, 527, 4957, 4067, 3806, 2228, 2216, 3821, 3985, 785, 1714, 3484, 1718, 1325, 3149, 1308, 1021, 4446, 3119, 3888, 1702, 1374, 3689, 4393, 3657, 1715, 1229, 4465, 4697, 4337, 3839, 1471, 1346, 4144, 2457, 894, 1547, 60, 3842, 3326, 4689, 639, 541, 1206, 1703, 4524, 1673, 4251, 3284, 4274, 1871, 4225, 4663, 4551, 2744, 3125, 4172, 1221, 2100, 412, 4557, 3279, 4822, 2604, 1518, 2129, 715, 3175, 1951, 1956, 385, 1569, 4773, 4171, 3096, 2008, 1639, 3863, 3293, 4609, 1456, 4562, 1596, 2356, 2750, 1062, 2460, 938, 1592, 3887, 386, 1609, 673, 4733, 3332, 2707, 4871, 1499, 4332, 334, 4922, 3396, 628, 4087, 2620, 2426, 2574, 3032, 2704, 4219, 1859, 3943, 2688, 990, 2952, 3549, 3073, 3574, 3637, 1630, 1562, 797, 4649, 2389, 4193, 1720, 4056, 2018, 2386, 2171, 4868, 1794, 1135, 3090, 1083, 16, 4496, 1218, 4419, 1241, 2979, 976, 4477, 2445, 1873, 1938, 1290, 3086, 483, 4093, 2113, 84, 3261, 2144, 178, 2175, 3954, 3256, 2093, 1145, 2067, 2637, 4939, 4439, 845, 1457, 642, 3026, 1390, 1047, 2942, 3782, 3940, 4336, 2592, 2835, 2560, 4559, 4870, 285, 253, 2703, 2695, 4720, 4838, 3670, 381, 579, 997, 4584, 1264, 2438, 222, 4372, 885, 1195, 383, 2896, 2994, 1294, 4546, 2812, 151, 1766, 3773, 2130, 4920, 1784, 1478, 3429, 799, 4354, 646, 3402, 71, 2167, 2947, 3412, 4589, 744, 536, 2759, 3809, 4901, 1262, 2476, 970, 1565, 3602, 2256, 2458, 4817, 2832, 992, 733, 4022, 1432, 3143, 1224, 2227, 3713, 2423, 3464, 4759, 2362, 2178, 2933, 166, 4425, 4735, 634, 3236, 4727, 117, 3061, 2930, 3092, 2443, 40, 3883, 4485, 4301, 3263, 3127, 1403, 4325, 783, 1617, 3273, 2924, 1838, 861, 2302, 3502, 2005, 82, 1877, 424, 1801, 2210, 2641, 2159, 1856, 4556, 3956, 4117, 736]\n",
      "Random number list generated.\n"
     ]
    }
   ],
   "source": [
    "#0.# Generate a list of 1000 random numbers between 1 and 5000\n",
    "\n",
    "\n",
    "res = random.sample(range(1, 5000), 1000)\n",
    "print(res)\n",
    "\n",
    "print(\"Random number list generated.\")  # Printing confirmation of the list generation"
   ]
  },
  {
   "cell_type": "markdown",
   "metadata": {},
   "source": [
    "<h3>1.\tSum of Squares:\n",
    "Calculate the sum of the squares of all numbers in the list.\n"
   ]
  },
  {
   "cell_type": "code",
   "execution_count": 5,
   "metadata": {},
   "outputs": [
    {
     "name": "stdout",
     "output_type": "stream",
     "text": [
      "ERROR: Could not find file /var/folders/y1/xyrxnh312j387t4r0dqc9v6c0000gn/T/ipykernel_81583/3730632186.py\n",
      "         1167 function calls in 0.002 seconds\n",
      "\n",
      "   Ordered by: standard name\n",
      "\n",
      "   ncalls  tottime  percall  cumtime  percall filename:lineno(function)\n",
      "     1001    0.001    0.000    0.001    0.000 3730632186.py:11(<genexpr>)\n",
      "        1    0.000    0.000    0.001    0.001 3730632186.py:8(sum_of_squares)\n",
      "        1    0.000    0.000    0.000    0.000 <frozen genericpath>:16(exists)\n",
      "        1    0.000    0.000    0.000    0.000 <frozen importlib._bootstrap>:1390(_handle_fromlist)\n",
      "        1    0.000    0.000    0.000    0.000 attrsettr.py:42(__getattr__)\n",
      "        1    0.000    0.000    0.000    0.000 attrsettr.py:65(_get_attr_opt)\n",
      "        2    0.000    0.000    0.000    0.000 base_events.py:2005(get_debug)\n",
      "        1    0.000    0.000    0.000    0.000 base_events.py:539(_check_closed)\n",
      "        1    0.000    0.000    0.000    0.000 base_events.py:785(call_soon)\n",
      "        1    0.000    0.000    0.000    0.000 base_events.py:814(_call_soon)\n",
      "        1    0.000    0.000    0.000    0.000 concurrent.py:182(future_set_result_unless_cancelled)\n",
      "        1    0.000    0.000    0.000    0.000 contextlib.py:104(__init__)\n",
      "        1    0.000    0.000    0.000    0.000 contextlib.py:132(__enter__)\n",
      "        1    0.000    0.000    0.000    0.000 contextlib.py:141(__exit__)\n",
      "        1    0.000    0.000    0.000    0.000 contextlib.py:299(helper)\n",
      "        1    0.000    0.000    0.000    0.000 coroutines.py:20(iscoroutinefunction)\n",
      "        3    0.000    0.000    0.000    0.000 enum.py:1129(__new__)\n",
      "        6    0.000    0.000    0.000    0.000 enum.py:1544(_get_value)\n",
      "        1    0.000    0.000    0.000    0.000 enum.py:1551(__or__)\n",
      "        1    0.000    0.000    0.000    0.000 enum.py:1562(__and__)\n",
      "        3    0.000    0.000    0.000    0.000 enum.py:726(__call__)\n",
      "        1    0.000    0.000    0.000    0.000 events.py:36(__init__)\n",
      "        1    0.000    0.000    0.000    0.000 events.py:86(_run)\n",
      "        2    0.000    0.000    0.000    0.000 functools.py:421(_unwrap_partial)\n",
      "        2    0.000    0.000    0.000    0.000 inspect.py:300(ismethod)\n",
      "        1    0.000    0.000    0.000    0.000 inspect.py:372(isfunction)\n",
      "        1    0.000    0.000    0.000    0.000 inspect.py:385(_has_code_flag)\n",
      "        1    0.000    0.000    0.000    0.000 inspect.py:406(_has_coroutine_mark)\n",
      "        1    0.000    0.000    0.000    0.000 inspect.py:421(iscoroutinefunction)\n",
      "        1    0.000    0.000    0.000    0.000 iostream.py:138(_event_pipe)\n",
      "        1    0.000    0.000    0.000    0.000 iostream.py:259(schedule)\n",
      "        2    0.000    0.000    0.000    0.000 iostream.py:505(parent_header)\n",
      "        2    0.000    0.000    0.000    0.000 iostream.py:550(_is_master_process)\n",
      "        2    0.000    0.000    0.000    0.000 iostream.py:577(_schedule_flush)\n",
      "        2    0.000    0.000    0.000    0.000 iostream.py:655(write)\n",
      "        1    0.000    0.000    0.000    0.000 locks.py:224(clear)\n",
      "        1    0.000    0.000    0.000    0.000 memory_profiler.py:1201(choose_backend)\n",
      "        6    0.000    0.000    0.000    0.000 memory_profiler.py:1215(<genexpr>)\n",
      "        1    0.000    0.000    0.000    0.000 memory_profiler.py:640(__init__)\n",
      "        1    0.000    0.000    0.000    0.000 memory_profiler.py:645(add)\n",
      "        1    0.000    0.000    0.000    0.000 memory_profiler.py:689(items)\n",
      "        1    0.000    0.000    0.000    0.000 memory_profiler.py:702(__init__)\n",
      "        1    0.000    0.000    0.000    0.000 memory_profiler.py:713(__call__)\n",
      "        1    0.000    0.000    0.000    0.000 memory_profiler.py:728(add_function)\n",
      "        2    0.000    0.000    0.000    0.000 memory_profiler.py:740(_count_ctxmgr)\n",
      "        1    0.000    0.000    0.000    0.000 memory_profiler.py:748(wrap_function)\n",
      "        1    0.000    0.000    0.002    0.002 memory_profiler.py:759(f)\n",
      "        1    0.000    0.000    0.000    0.000 memory_profiler.py:775(enable_by_count)\n",
      "        1    0.000    0.000    0.000    0.000 memory_profiler.py:782(disable_by_count)\n",
      "        1    0.000    0.000    0.000    0.000 memory_profiler.py:842(enable)\n",
      "        1    0.000    0.000    0.000    0.000 memory_profiler.py:849(disable)\n",
      "        1    0.000    0.000    0.000    0.000 memory_profiler.py:853(show_results)\n",
      "        1    0.000    0.000    0.000    0.000 queue.py:209(_qsize)\n",
      "        1    0.000    0.000    0.000    0.000 queue.py:97(empty)\n",
      "        1    0.000    0.000    0.000    0.000 queues.py:177(empty)\n",
      "        1    0.000    0.000    0.000    0.000 queues.py:186(put)\n",
      "        1    0.000    0.000    0.000    0.000 queues.py:209(put_nowait)\n",
      "        1    0.000    0.000    0.000    0.000 queues.py:309(_get)\n",
      "        1    0.000    0.000    0.000    0.000 queues.py:312(_put)\n",
      "        1    0.000    0.000    0.000    0.000 queues.py:317(__put_internal)\n",
      "        1    0.000    0.000    0.000    0.000 queues.py:322(_consume_expired)\n",
      "        1    0.000    0.000    0.000    0.000 selector_events.py:129(_read_from_self)\n",
      "        1    0.000    0.000    0.000    0.000 socket.py:621(send)\n",
      "        1    0.000    0.000    0.000    0.000 threading.py:1153(_wait_for_tstate_lock)\n",
      "        1    0.000    0.000    0.000    0.000 threading.py:1220(is_alive)\n",
      "        1    0.000    0.000    0.000    0.000 threading.py:601(is_set)\n",
      "        1    0.000    0.000    0.000    0.000 tz.py:74(utcoffset)\n",
      "        1    0.000    0.000    0.000    0.000 unix_events.py:81(_process_self_data)\n",
      "        1    0.000    0.000    0.000    0.000 zmqstream.py:562(receiving)\n",
      "        1    0.000    0.000    0.000    0.000 zmqstream.py:566(sending)\n",
      "        1    0.000    0.000    0.000    0.000 zmqstream.py:687(_rebuild_io_state)\n",
      "        1    0.000    0.000    0.000    0.000 zmqstream.py:710(_update_handler)\n",
      "        5    0.000    0.000    0.000    0.000 {built-in method builtins.getattr}\n",
      "        1    0.000    0.000    0.000    0.000 {built-in method builtins.hasattr}\n",
      "       18    0.000    0.000    0.000    0.000 {built-in method builtins.isinstance}\n",
      "        4    0.000    0.000    0.000    0.000 {built-in method builtins.len}\n",
      "        1    0.000    0.000    0.000    0.000 {built-in method builtins.max}\n",
      "        2    0.000    0.000    0.000    0.000 {built-in method builtins.next}\n",
      "        1    0.000    0.000    0.000    0.000 {built-in method builtins.print}\n",
      "        1    0.000    0.000    0.001    0.001 {built-in method builtins.sum}\n",
      "        2    0.000    0.000    0.000    0.000 {built-in method posix.getpid}\n",
      "        1    0.000    0.000    0.000    0.000 {built-in method posix.stat}\n",
      "        1    0.000    0.000    0.000    0.000 {built-in method sys.gettrace}\n",
      "        2    0.000    0.000    0.000    0.000 {built-in method sys.settrace}\n",
      "        2    0.000    0.000    0.000    0.000 {method '__exit__' of '_thread.RLock' objects}\n",
      "        1    0.000    0.000    0.000    0.000 {method '__exit__' of '_thread.lock' objects}\n",
      "        1    0.000    0.000    0.000    0.000 {method 'acquire' of '_thread.lock' objects}\n",
      "        3    0.000    0.000    0.000    0.000 {method 'append' of 'collections.deque' objects}\n",
      "        1    0.000    0.000    0.000    0.000 {method 'cancelled' of '_asyncio.Future' objects}\n",
      "        1    0.000    0.000    0.000    0.000 {method 'disable' of '_lsprof.Profiler' objects}\n",
      "        1    0.000    0.000    0.000    0.000 {method 'done' of '_asyncio.Future' objects}\n",
      "        1    0.000    0.000    0.000    0.000 {method 'endswith' of 'str' objects}\n",
      "        2    0.000    0.000    0.000    0.000 {method 'get' of '_contextvars.ContextVar' objects}\n",
      "        4    0.000    0.000    0.000    0.000 {method 'get' of 'dict' objects}\n",
      "        1    0.000    0.000    0.000    0.000 {method 'insert' of 'list' objects}\n",
      "        2    0.000    0.000    0.000    0.000 {method 'items' of 'dict' objects}\n",
      "        1    0.000    0.000    0.000    0.000 {method 'pop' of 'list' objects}\n",
      "        3    0.000    0.000    0.000    0.000 {method 'popleft' of 'collections.deque' objects}\n",
      "        2    0.000    0.000    0.000    0.000 {method 'recv' of '_socket.socket' objects}\n",
      "        1    0.000    0.000    0.000    0.000 {method 'run' of '_contextvars.Context' objects}\n",
      "        2    0.000    0.000    0.000    0.000 {method 'set_result' of '_asyncio.Future' objects}\n",
      "        1    0.000    0.000    0.000    0.000 {method 'startswith' of 'str' objects}\n",
      "        1    0.000    0.000    0.000    0.000 {method 'update' of 'dict' objects}\n",
      "        1    0.000    0.000    0.000    0.000 {method 'upper' of 'str' objects}\n",
      "        2    0.000    0.000    0.000    0.000 {method 'write' of '_io.StringIO' objects}\n",
      "\n",
      "\n"
     ]
    }
   ],
   "source": [
    "\n",
    "################### The Shell commands put in the terminal ###########################\n",
    "\n",
    "                            ##touch profiling_script.py   \n",
    "                            ##python profiling_script.py\n",
    "\n",
    "# Function to calculate the sum of squares of all numbers in the list\n",
    "\n",
    "@profile  # Memory profiling decorator\n",
    "\n",
    "def sum_of_squares(numbers):\n",
    "    return sum(x ** 2 for x in numbers)  # Summing the squares of all numbers in the list\n",
    "\n",
    "\n",
    "# Function to run profiling tasks\n",
    "def run_profiling():\n",
    "    # CPU profiling each function using cProfile\n",
    "    cProfile.run(\"sum_of_squares(res)\")  # Profile the sum of squares function\n",
    "   \n",
    "\n",
    "# Execute the profiling for the function\n",
    "run_profiling()\n",
    "\n"
   ]
  },
  {
   "cell_type": "markdown",
   "metadata": {},
   "source": [
    "<h3>2.\tProduct of Cubes:\n",
    "Compute the product of the cubes of all numbers in the list.\n"
   ]
  },
  {
   "cell_type": "code",
   "execution_count": 6,
   "metadata": {},
   "outputs": [
    {
     "name": "stdout",
     "output_type": "stream",
     "text": [
      "         3 function calls in 0.000 seconds\n",
      "\n",
      "   Ordered by: standard name\n",
      "\n",
      "   ncalls  tottime  percall  cumtime  percall filename:lineno(function)\n",
      "        1    0.000    0.000    0.000    0.000 <string>:1(<module>)\n",
      "        1    0.000    0.000    0.000    0.000 {built-in method builtins.exec}\n",
      "        1    0.000    0.000    0.000    0.000 {method 'disable' of '_lsprof.Profiler' objects}\n",
      "\n",
      "\n"
     ]
    }
   ],
   "source": [
    "# Function to calculate the product of cubes of all numbers in the list\n",
    "\n",
    "@profile  # Memory profiling decorator\n",
    "\n",
    "def product_of_cubes(numbers):\n",
    "    \n",
    "    return reduce(lambda x, y: x * (y ** 3), numbers, 1)  # Reducing the list to a product of cubes of numbers\n",
    "\n",
    "# Function to run profiling tasks\n",
    "def run_profiling():\n",
    "    # CPU profiling each function using cProfile\n",
    "    cProfile.run(\"product_of_cubes\")  # Profile the product of cubes function\n",
    "   \n",
    "\n",
    "# Execute the profiling for all functions\n",
    "run_profiling()\n"
   ]
  },
  {
   "cell_type": "markdown",
   "metadata": {},
   "source": [
    "<h3> 3.\tAverage of Even Numbers:\n",
    "Find the average of all even numbers in the list.\n"
   ]
  },
  {
   "cell_type": "code",
   "execution_count": 7,
   "metadata": {},
   "outputs": [
    {
     "name": "stdout",
     "output_type": "stream",
     "text": [
      "         3 function calls in 0.000 seconds\n",
      "\n",
      "   Ordered by: standard name\n",
      "\n",
      "   ncalls  tottime  percall  cumtime  percall filename:lineno(function)\n",
      "        1    0.000    0.000    0.000    0.000 <string>:1(<module>)\n",
      "        1    0.000    0.000    0.000    0.000 {built-in method builtins.exec}\n",
      "        1    0.000    0.000    0.000    0.000 {method 'disable' of '_lsprof.Profiler' objects}\n",
      "\n",
      "\n"
     ]
    }
   ],
   "source": [
    "\n",
    "@profile  # Memory profiling decorator\n",
    "\n",
    "def average_of_even_numbers(numbers):\n",
    "    \n",
    "    evens = [x for x in numbers if x % 2 == 0]  # Filter even numbers from the list\n",
    "    \n",
    "    return sum(evens) / len(evens) if evens else 0  # Calculate average of even numbers, handle empty case\n",
    "\n",
    "# Function to run profiling tasks\n",
    "def run_profiling():\n",
    "    # CPU profiling each function using cProfile\n",
    "    cProfile.run(\"average_of_even_numbers\")  # Profile the average of even numbers functi\n",
    "   \n",
    "\n",
    "# Execute the profiling for all functions\n",
    "run_profiling()\n"
   ]
  },
  {
   "cell_type": "markdown",
   "metadata": {},
   "source": [
    "<h3> 4.\tMaximum Odd Number:\n",
    "Determine the maximum odd number present in the list.\n"
   ]
  },
  {
   "cell_type": "code",
   "execution_count": 8,
   "metadata": {},
   "outputs": [
    {
     "name": "stdout",
     "output_type": "stream",
     "text": [
      "         3 function calls in 0.000 seconds\n",
      "\n",
      "   Ordered by: standard name\n",
      "\n",
      "   ncalls  tottime  percall  cumtime  percall filename:lineno(function)\n",
      "        1    0.000    0.000    0.000    0.000 <string>:1(<module>)\n",
      "        1    0.000    0.000    0.000    0.000 {built-in method builtins.exec}\n",
      "        1    0.000    0.000    0.000    0.000 {method 'disable' of '_lsprof.Profiler' objects}\n",
      "\n",
      "\n"
     ]
    }
   ],
   "source": [
    "@profile  # Memory profiling decorator\n",
    "\n",
    "def max_odd_number(numbers):\n",
    "    \n",
    "    odds = [x for x in numbers if x % 2 != 0]  # Filter odd numbers from the list\n",
    "    \n",
    "    return max(odds) if odds else None  # Return the maximum odd number, handle empty case\n",
    "\n",
    "# Function to run profiling tasks\n",
    "def run_profiling():\n",
    "    # CPU profiling each function using cProfile\n",
    "    cProfile.run(\"max_odd_number\")  # Profile the maximum odd number function\n",
    "   \n",
    "\n",
    "# Execute the profiling for all functions\n",
    "run_profiling()\n"
   ]
  },
  {
   "cell_type": "markdown",
   "metadata": {},
   "source": [
    "<h3>5.\tMinimum Even Number:\n",
    "Find the minimum even number present in the list.\n"
   ]
  },
  {
   "cell_type": "code",
   "execution_count": 9,
   "metadata": {},
   "outputs": [
    {
     "name": "stdout",
     "output_type": "stream",
     "text": [
      "         3 function calls in 0.000 seconds\n",
      "\n",
      "   Ordered by: standard name\n",
      "\n",
      "   ncalls  tottime  percall  cumtime  percall filename:lineno(function)\n",
      "        1    0.000    0.000    0.000    0.000 <string>:1(<module>)\n",
      "        1    0.000    0.000    0.000    0.000 {built-in method builtins.exec}\n",
      "        1    0.000    0.000    0.000    0.000 {method 'disable' of '_lsprof.Profiler' objects}\n",
      "\n",
      "\n"
     ]
    }
   ],
   "source": [
    "@profile  # Memory profiling decorator\n",
    "\n",
    "def min_even_number(numbers):\n",
    "    \n",
    "    evens = [x for x in numbers if x % 2 == 0]  # Filter even numbers from the list\n",
    "    return min(evens) if evens else None  # Return the minimum even number, handle empty case\n",
    "\n",
    "# Function to run profiling tasks\n",
    "def run_profiling():\n",
    "    # CPU profiling each function using cProfile\n",
    "    cProfile.run(\"min_even_number\")  # Profile the minimum even number function\n",
    "   \n",
    "\n",
    "# Execute the profiling for all functions\n",
    "run_profiling()\n",
    "\n"
   ]
  },
  {
   "cell_type": "markdown",
   "metadata": {},
   "source": [
    "<h3> 6.\tCount Positive Numbers:\n",
    "Count the number of positive numbers in the list.\n"
   ]
  },
  {
   "cell_type": "code",
   "execution_count": 10,
   "metadata": {},
   "outputs": [
    {
     "name": "stdout",
     "output_type": "stream",
     "text": [
      "         3 function calls in 0.000 seconds\n",
      "\n",
      "   Ordered by: standard name\n",
      "\n",
      "   ncalls  tottime  percall  cumtime  percall filename:lineno(function)\n",
      "        1    0.000    0.000    0.000    0.000 <string>:1(<module>)\n",
      "        1    0.000    0.000    0.000    0.000 {built-in method builtins.exec}\n",
      "        1    0.000    0.000    0.000    0.000 {method 'disable' of '_lsprof.Profiler' objects}\n",
      "\n",
      "\n"
     ]
    }
   ],
   "source": [
    "@profile  # Memory profiling decorator\n",
    "\n",
    "def count_positive_numbers(numbers):\n",
    "    return len([x for x in numbers if x > 0])  # Count how many numbers are greater than zero\n",
    "\n",
    "# Function to run profiling tasks\n",
    "def run_profiling():\n",
    "    # CPU profiling each function using cProfile\n",
    "    cProfile.run(\"count_positive_numbers\")  # Profile the count of positive numbers function\n",
    "   \n",
    "\n",
    "# Execute the profiling for all functions\n",
    "run_profiling()\n",
    "\n"
   ]
  },
  {
   "cell_type": "markdown",
   "metadata": {},
   "source": [
    "<h3>7.\tCount Negative Numbers:\n",
    "Count the number of negative numbers in the list.\n"
   ]
  },
  {
   "cell_type": "code",
   "execution_count": 11,
   "metadata": {},
   "outputs": [
    {
     "name": "stdout",
     "output_type": "stream",
     "text": [
      "         3 function calls in 0.000 seconds\n",
      "\n",
      "   Ordered by: standard name\n",
      "\n",
      "   ncalls  tottime  percall  cumtime  percall filename:lineno(function)\n",
      "        1    0.000    0.000    0.000    0.000 <string>:1(<module>)\n",
      "        1    0.000    0.000    0.000    0.000 {built-in method builtins.exec}\n",
      "        1    0.000    0.000    0.000    0.000 {method 'disable' of '_lsprof.Profiler' objects}\n",
      "\n",
      "\n"
     ]
    }
   ],
   "source": [
    "@profile  # Memory profiling decorator\n",
    "def count_negative_numbers(numbers):\n",
    "    return len([x for x in numbers if x < 0])  # Count how many numbers are less than zero\n",
    "\n",
    "# Function to run profiling tasks\n",
    "def run_profiling():\n",
    "    # CPU profiling each function using cProfile\n",
    "    cProfile.run(\"count_negative_numbers\")  # Profile the count of negative numbers function\n",
    "   \n",
    "\n",
    "# Execute the profiling for all functions\n",
    "run_profiling()\n",
    "\n"
   ]
  },
  {
   "cell_type": "markdown",
   "metadata": {},
   "source": [
    "<h3> 8.\tFrequency of a Number:\n",
    "Given a target number, count the number of times it appears in the list.\n",
    "    "
   ]
  },
  {
   "cell_type": "code",
   "execution_count": 12,
   "metadata": {},
   "outputs": [
    {
     "name": "stdout",
     "output_type": "stream",
     "text": [
      "         3 function calls in 0.000 seconds\n",
      "\n",
      "   Ordered by: standard name\n",
      "\n",
      "   ncalls  tottime  percall  cumtime  percall filename:lineno(function)\n",
      "        1    0.000    0.000    0.000    0.000 <string>:1(<module>)\n",
      "        1    0.000    0.000    0.000    0.000 {built-in method builtins.exec}\n",
      "        1    0.000    0.000    0.000    0.000 {method 'disable' of '_lsprof.Profiler' objects}\n",
      "\n",
      "\n"
     ]
    }
   ],
   "source": [
    "\n",
    "@profile  # Memory profiling decorator\n",
    "def frequency_of_number(numbers, target):\n",
    "    return numbers.count(target)  # Return the count of the target number in the list\n",
    "\n",
    "\n",
    "# Function to run profiling tasks\n",
    "def run_profiling():\n",
    "    # CPU profiling each function using cProfile\n",
    "    cProfile.run(\"frequency_of_number\")  # Profile the frequency of a target number (250) in the list\n",
    "   \n",
    "\n",
    "# Execute the profiling for all functions\n",
    "run_profiling()\n"
   ]
  },
  {
   "cell_type": "markdown",
   "metadata": {},
   "source": [
    "<h3>9.\tFactorial of Each Number:\n",
    "Compute the factorial of each number in the list."
   ]
  },
  {
   "cell_type": "code",
   "execution_count": 13,
   "metadata": {},
   "outputs": [
    {
     "name": "stdout",
     "output_type": "stream",
     "text": [
      "         3 function calls in 0.000 seconds\n",
      "\n",
      "   Ordered by: standard name\n",
      "\n",
      "   ncalls  tottime  percall  cumtime  percall filename:lineno(function)\n",
      "        1    0.000    0.000    0.000    0.000 <string>:1(<module>)\n",
      "        1    0.000    0.000    0.000    0.000 {built-in method builtins.exec}\n",
      "        1    0.000    0.000    0.000    0.000 {method 'disable' of '_lsprof.Profiler' objects}\n",
      "\n",
      "\n"
     ]
    }
   ],
   "source": [
    "@profile  # Memory profiling decorator\n",
    "def factorial_of_each_number(numbers):\n",
    "    return [math.factorial(x) for x in numbers]  # Calculate the factorial of each number\n",
    "\n",
    "# Function to run profiling tasks\n",
    "def run_profiling():\n",
    "    # CPU profiling each function using cProfile\n",
    "    cProfile.run(\"factorial_of_each_number\")   # Profile the factorial function (limited to first 10 to avoid huge numbers)\n",
    "   \n",
    "\n",
    "# Execute the profiling for all functions\n",
    "run_profiling()\n"
   ]
  },
  {
   "cell_type": "markdown",
   "metadata": {},
   "source": [
    "<h3>10.\tSquare Root of Each Number:\n",
    "Calculate the square root of each number in the list."
   ]
  },
  {
   "cell_type": "code",
   "execution_count": 14,
   "metadata": {},
   "outputs": [
    {
     "name": "stdout",
     "output_type": "stream",
     "text": [
      "         3 function calls in 0.000 seconds\n",
      "\n",
      "   Ordered by: standard name\n",
      "\n",
      "   ncalls  tottime  percall  cumtime  percall filename:lineno(function)\n",
      "        1    0.000    0.000    0.000    0.000 <string>:1(<module>)\n",
      "        1    0.000    0.000    0.000    0.000 {built-in method builtins.exec}\n",
      "        1    0.000    0.000    0.000    0.000 {method 'disable' of '_lsprof.Profiler' objects}\n",
      "\n",
      "\n"
     ]
    }
   ],
   "source": [
    "@profile  # Memory profiling decorator\n",
    "def sqrt_of_each_number(numbers):\n",
    "    return [math.sqrt(x) for x in numbers]  # Calculate the square root of each number\n",
    "\n",
    "# Function to run profiling tasks\n",
    "def run_profiling():\n",
    "    # CPU profiling each function using cProfile\n",
    "    cProfile.run(\"sqrt_of_each_number\")   \n",
    "\n",
    "# Execute the profiling for all functions\n",
    "run_profiling()"
   ]
  },
  {
   "cell_type": "markdown",
   "metadata": {},
   "source": [
    "<h3>11.\tFilter Numbers Divisible by 3:\n",
    "Create a new list containing only the numbers divisible by 3 from the original list."
   ]
  },
  {
   "cell_type": "code",
   "execution_count": 15,
   "metadata": {},
   "outputs": [
    {
     "name": "stdout",
     "output_type": "stream",
     "text": [
      "         3 function calls in 0.000 seconds\n",
      "\n",
      "   Ordered by: standard name\n",
      "\n",
      "   ncalls  tottime  percall  cumtime  percall filename:lineno(function)\n",
      "        1    0.000    0.000    0.000    0.000 <string>:1(<module>)\n",
      "        1    0.000    0.000    0.000    0.000 {built-in method builtins.exec}\n",
      "        1    0.000    0.000    0.000    0.000 {method 'disable' of '_lsprof.Profiler' objects}\n",
      "\n",
      "\n"
     ]
    }
   ],
   "source": [
    "@profile  # Memory profiling decorator\n",
    "def filter_numbers_divisible_by_3(numbers):\n",
    "    return [x for x in numbers if x % 3 == 0]  # Return a new list containing numbers divisible by 3\n",
    "\n",
    "# Function to run profiling tasks\n",
    "def run_profiling():\n",
    "    # CPU profiling each function using cProfile\n",
    "    cProfile.run(\"filter_numbers_divisible_by_3\") # Profile the filter divisible by 3 function\n",
    "   \n",
    "\n",
    "# Execute the profiling for all functions\n",
    "run_profiling()"
   ]
  },
  {
   "cell_type": "markdown",
   "metadata": {},
   "source": [
    "<h3> \n",
    "12.\tFilter Numbers Greater Than 5:\n",
    "Create a new list containing only the numbers greater than 5 from the original list."
   ]
  },
  {
   "cell_type": "code",
   "execution_count": 16,
   "metadata": {},
   "outputs": [
    {
     "name": "stdout",
     "output_type": "stream",
     "text": [
      "         3 function calls in 0.000 seconds\n",
      "\n",
      "   Ordered by: standard name\n",
      "\n",
      "   ncalls  tottime  percall  cumtime  percall filename:lineno(function)\n",
      "        1    0.000    0.000    0.000    0.000 <string>:1(<module>)\n",
      "        1    0.000    0.000    0.000    0.000 {built-in method builtins.exec}\n",
      "        1    0.000    0.000    0.000    0.000 {method 'disable' of '_lsprof.Profiler' objects}\n",
      "\n",
      "\n"
     ]
    }
   ],
   "source": [
    "@profile  # Memory profiling decorator\n",
    "def filter_numbers_greater_than_5(numbers):\n",
    "    return [x for x in numbers if x > 5]  # Return a new list containing numbers greater than 5\n",
    "\n",
    "# Function to run profiling tasks\n",
    "def run_profiling():\n",
    "    # CPU profiling each function using cProfile\n",
    "    cProfile.run(\"filter_numbers_greater_than_5\")  # Profile the square root function\n",
    "   \n",
    "\n",
    "# Execute the profiling for all functions\n",
    "run_profiling()"
   ]
  },
  {
   "cell_type": "markdown",
   "metadata": {},
   "source": [
    "<h3> 13.\tMap Numbers to Their Squares:\n",
    "Create a new list where each element is the square of the corresponding element in the original list.\n"
   ]
  },
  {
   "cell_type": "code",
   "execution_count": 17,
   "metadata": {},
   "outputs": [
    {
     "name": "stdout",
     "output_type": "stream",
     "text": [
      "         3 function calls in 0.000 seconds\n",
      "\n",
      "   Ordered by: standard name\n",
      "\n",
      "   ncalls  tottime  percall  cumtime  percall filename:lineno(function)\n",
      "        1    0.000    0.000    0.000    0.000 <string>:1(<module>)\n",
      "        1    0.000    0.000    0.000    0.000 {built-in method builtins.exec}\n",
      "        1    0.000    0.000    0.000    0.000 {method 'disable' of '_lsprof.Profiler' objects}\n",
      "\n",
      "\n"
     ]
    }
   ],
   "source": [
    "# Function to map each number to its square\n",
    "@profile  # Memory profiling decorator\n",
    "def map_numbers_to_squares(numbers):\n",
    "    return [x ** 2 for x in numbers]  # Return a new list where each element is squared\n",
    "\n",
    "# Function to run profiling tasks\n",
    "def run_profiling():\n",
    "    # CPU profiling each function using cProfile\n",
    "    cProfile.run(\"map_numbers_to_squares\")   # Profile the map to squares function\n",
    "   \n",
    "\n",
    "# Execute the profiling for all functions\n",
    "run_profiling()"
   ]
  },
  {
   "cell_type": "markdown",
   "metadata": {},
   "source": [
    "<h3> 14.\tMap Numbers to Their Cubes:\n",
    "Create a new list where each element is the cube of the corresponding element in the original list.\n"
   ]
  },
  {
   "cell_type": "code",
   "execution_count": 18,
   "metadata": {},
   "outputs": [
    {
     "name": "stdout",
     "output_type": "stream",
     "text": [
      "         3 function calls in 0.000 seconds\n",
      "\n",
      "   Ordered by: standard name\n",
      "\n",
      "   ncalls  tottime  percall  cumtime  percall filename:lineno(function)\n",
      "        1    0.000    0.000    0.000    0.000 <string>:1(<module>)\n",
      "        1    0.000    0.000    0.000    0.000 {built-in method builtins.exec}\n",
      "        1    0.000    0.000    0.000    0.000 {method 'disable' of '_lsprof.Profiler' objects}\n",
      "\n",
      "\n"
     ]
    }
   ],
   "source": [
    "# Function to map each number to its cube\n",
    "@profile  # Memory profiling decorator\n",
    "def map_numbers_to_cubes(numbers):\n",
    "    return [x ** 3 for x in numbers]  # Return a new list where each element is cubed\n",
    "\n",
    "# Function to run profiling tasks\n",
    "def run_profiling():\n",
    "    # CPU profiling each function using cProfile\n",
    "    cProfile.run(\"map_numbers_to_cubes\")   # Profile the map to cubes functio\n",
    "   \n",
    "\n",
    "# Execute the profiling for all functions\n",
    "run_profiling()"
   ]
  },
  {
   "cell_type": "markdown",
   "metadata": {},
   "source": [
    "<h3> 15.\tReduce to the Sum of Squares:\n",
    "Use the reduce function to calculate the sum of the squares of all numbers in the list.\n"
   ]
  },
  {
   "cell_type": "code",
   "execution_count": 19,
   "metadata": {},
   "outputs": [
    {
     "name": "stdout",
     "output_type": "stream",
     "text": [
      "         3 function calls in 0.000 seconds\n",
      "\n",
      "   Ordered by: standard name\n",
      "\n",
      "   ncalls  tottime  percall  cumtime  percall filename:lineno(function)\n",
      "        1    0.000    0.000    0.000    0.000 <string>:1(<module>)\n",
      "        1    0.000    0.000    0.000    0.000 {built-in method builtins.exec}\n",
      "        1    0.000    0.000    0.000    0.000 {method 'disable' of '_lsprof.Profiler' objects}\n",
      "\n",
      "\n"
     ]
    }
   ],
   "source": [
    "\n",
    "# Function to reduce the list to the sum of squares\n",
    "@profile  # Memory profiling decorator\n",
    "def reduce_to_sum_of_squares(numbers):\n",
    "    return reduce(lambda acc, x: acc + x ** 2, numbers, 0)  # Use reduce to calculate the sum of squares\n",
    "\n",
    "# Function to run profiling tasks\n",
    "def run_profiling():\n",
    "    # CPU profiling each function using cProfile\n",
    "    cProfile.run(\"reduce_to_sum_of_squares\")  # Profile the reduce to sum of squares function\n",
    "   \n",
    "\n",
    "# Execute the profiling for all functions\n",
    "run_profiling()"
   ]
  }
 ],
 "metadata": {
  "kernelspec": {
   "display_name": "Elaenv",
   "language": "python",
   "name": "python3"
  },
  "language_info": {
   "codemirror_mode": {
    "name": "ipython",
    "version": 3
   },
   "file_extension": ".py",
   "mimetype": "text/x-python",
   "name": "python",
   "nbconvert_exporter": "python",
   "pygments_lexer": "ipython3",
   "version": "3.12.4"
  }
 },
 "nbformat": 4,
 "nbformat_minor": 2
}
