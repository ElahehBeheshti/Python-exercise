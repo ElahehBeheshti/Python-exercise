{
 "cells": [
  {
   "cell_type": "markdown",
   "metadata": {},
   "source": [
    "1 The open prices of SP500 between January 2, 2018 to January 16, 2018 are listed as following:\n",
    "\n",
    "\n",
    "2683.72998,2697.850098,2719.310059,2731.330078,2742.669922,2751.\n",
    "149902,2745.550049,2752.969971,2770.179932,2798.959961"
   ]
  },
  {
   "cell_type": "markdown",
   "metadata": {},
   "source": [
    "the close prices of SP500 between January 2, 2018 to January 16, 2018 are listed as\n",
    "following:\n",
    "\n",
    "\n",
    "2695.810059,2713.060059,2723.98999,2743.149902,2747.709961,2751.\n",
    "290039,2748.22998,2767.560059,2786.23999,2776.419922"
   ]
  },
  {
   "cell_type": "markdown",
   "metadata": {},
   "source": [
    "Write a Python program to assign the open prices and the close prices to two Numpy arrays,\n",
    "\n",
    "calculate the daily earnings during that period of time and output them. \n",
    "\n",
    "Then calculate the mean and the standard deviation of the daily earnings for SP500 between January 2, 2018 to January\n",
    "16, 2018, and output the mean and the standard deviation. \n",
    "\n",
    "Display the daily earnings as one standard deviation of the mean, two standard deviations of the mean, three standard deviations of\n",
    "the mean, etc."
   ]
  },
  {
   "cell_type": "code",
   "execution_count": 1,
   "metadata": {},
   "outputs": [],
   "source": [
    "import numpy as np"
   ]
  },
  {
   "cell_type": "markdown",
   "metadata": {},
   "source": [
    "Step 1: Assign Open and Close Prices to NumPy Arrays"
   ]
  },
  {
   "cell_type": "code",
   "execution_count": 2,
   "metadata": {},
   "outputs": [],
   "source": [
    "# Define the open prices\n",
    "open_prices = [\n",
    "    2683.72998, 2697.850098, 2719.310059, 2731.330078, \n",
    "    2742.669922, 2751.149902, 2745.550049, 2752.969971, \n",
    "    2770.179932, 2798.959961\n",
    "]\n"
   ]
  },
  {
   "cell_type": "code",
   "execution_count": 3,
   "metadata": {},
   "outputs": [],
   "source": [
    "# Define the close prices\n",
    "close_prices = [\n",
    "    2695.810059, 2713.060059, 2723.98999, 2743.149902, \n",
    "    2747.709961, 2751.290039, 2748.22998, 2767.560059, \n",
    "    2786.23999, 2776.419922\n",
    "]"
   ]
  },
  {
   "cell_type": "code",
   "execution_count": 4,
   "metadata": {},
   "outputs": [],
   "source": [
    "# Convert lists to NumPy arrays\n",
    "open_array = np.array(open_prices)\n",
    "close_array = np.array(close_prices)"
   ]
  },
  {
   "cell_type": "markdown",
   "metadata": {},
   "source": [
    "We can directly create a NumPy array for the open prices without first making a list. In the previous example, we used a list and then converted it to a NumPy array, which is a common practice for readability and flexibility, but it's not strictly necessary.So the next code is creting a direct array:"
   ]
  },
  {
   "cell_type": "code",
   "execution_count": 5,
   "metadata": {},
   "outputs": [
    {
     "name": "stdout",
     "output_type": "stream",
     "text": [
      "Open Prices: [2683.72998  2697.850098 2719.310059 2731.330078 2742.669922 2751.149902\n",
      " 2745.550049 2752.969971 2770.179932 2798.959961]\n",
      "Close Prices: [2695.810059 2713.060059 2723.98999  2743.149902 2747.709961 2751.290039\n",
      " 2748.22998  2767.560059 2786.23999  2776.419922]\n"
     ]
    }
   ],
   "source": [
    "# Create a NumPy array directly for open prices\n",
    "open_prices = np.array([\n",
    "    2683.72998, 2697.850098, 2719.310059, 2731.330078, \n",
    "    2742.669922, 2751.149902, 2745.550049, 2752.969971, \n",
    "    2770.179932, 2798.959961\n",
    "])\n",
    "\n",
    "# Create a NumPy array directly for close prices\n",
    "close_prices = np.array([\n",
    "    2695.810059, 2713.060059, 2723.98999, 2743.149902, \n",
    "    2747.709961, 2751.290039, 2748.22998, 2767.560059, \n",
    "    2786.23999, 2776.419922\n",
    "])\n",
    "\n",
    "# Print arrays to verify\n",
    "print(\"Open Prices:\", open_prices)\n",
    "\n",
    "\n",
    "print(\"Close Prices:\", close_prices)"
   ]
  },
  {
   "cell_type": "markdown",
   "metadata": {},
   "source": [
    "Step 2: Calculate Daily Earnings"
   ]
  },
  {
   "cell_type": "code",
   "execution_count": 6,
   "metadata": {},
   "outputs": [],
   "source": [
    "#For each day, subtract the open price from the close price to find the earnings \n",
    "#to shows how much the SP500 index earned (or lost) each day compared to its opening value.\n",
    "#NumPy allows us to perform element-wise subtraction directly on arrays.\n",
    "#The result of subtraction will be a new NumPy array containing the daily earnings."
   ]
  },
  {
   "cell_type": "code",
   "execution_count": 7,
   "metadata": {},
   "outputs": [
    {
     "name": "stdout",
     "output_type": "stream",
     "text": [
      "Daily Earnings from January 2, 2018 to January 16, 2018:\n",
      "[ 12.080079  15.209961   4.679931  11.819824   5.040039   0.140137\n",
      "   2.679931  14.590088  16.060058 -22.540039]\n"
     ]
    }
   ],
   "source": [
    "# Calculate daily earnings\n",
    "daily_earnings = close_array - open_array\n",
    "\n",
    "print(\"Daily Earnings from January 2, 2018 to January 16, 2018:\")\n",
    "print(daily_earnings)"
   ]
  },
  {
   "cell_type": "markdown",
   "metadata": {},
   "source": [
    "Step 3: Calculate Mean and Standard Deviation"
   ]
  },
  {
   "cell_type": "code",
   "execution_count": 8,
   "metadata": {},
   "outputs": [],
   "source": [
    "#Mean: Calculate the average of the daily earnings, and provides a central value of the earnings.\n",
    "\n",
    "#Standard Deviation: Measure the amount of variation or dispersion in the daily earnings, \n",
    "#and helps understand the volatility or consistency of the earnings.\n"
   ]
  },
  {
   "cell_type": "code",
   "execution_count": 9,
   "metadata": {},
   "outputs": [
    {
     "name": "stdout",
     "output_type": "stream",
     "text": [
      "Mean of Daily Earnings: 5.976000900000008\n",
      "Standard Deviation of Daily Earnings: 10.923408345627154\n"
     ]
    }
   ],
   "source": [
    "# Calculate mean of daily earnings\n",
    "mean_earnings = np.mean(daily_earnings)\n",
    "\n",
    "# Calculate standard deviation of daily earnings\n",
    "std_deviation = np.std(daily_earnings)\n",
    "\n",
    "print(f\"Mean of Daily Earnings: {mean_earnings}\")\n",
    "print(f\"Standard Deviation of Daily Earnings: {std_deviation}\")\n",
    "\n",
    "\n",
    "\n",
    "##f-string allows us to directly include variables or expressions inside a string.\n",
    "##The f before the string tells Python that the string is formatted, \n",
    "# meaning anything inside {} will be replaced with the value of the variable or expression inside it.\n"
   ]
  },
  {
   "cell_type": "markdown",
   "metadata": {},
   "source": [
    "Step 4: Display Earnings with Standard Deviations"
   ]
  },
  {
   "cell_type": "code",
   "execution_count": 10,
   "metadata": {},
   "outputs": [],
   "source": [
    "#Show how each day's earnings relate to the mean by displaying them in terms of standard deviations:\n",
    "\n",
    "#Low standard deviation: Earnings are close to the mean (more consistent).\n",
    "#High standard deviation: Earnings are spread out, with some values much higher or lower than the mean (less consistent).\n",
    "\n",
    "#Within 1 Standard Deviation: This means the earnings are close to the average (typical or normal).\n",
    "#Within 2 Standard Deviations: Earnings are still relatively normal but a bit more unusual\n",
    "#Within 3 Standard Deviations: Earnings are rare and would be considered unusual.\n"
   ]
  },
  {
   "cell_type": "code",
   "execution_count": 11,
   "metadata": {},
   "outputs": [
    {
     "name": "stdout",
     "output_type": "stream",
     "text": [
      "Mean:5.976000900000008\n",
      "SD:10.923408345627154\n",
      "one_std_: [-4.947407445627146, 16.89940924562716]\n",
      "two_std_: [-15.8708157912543, 27.822817591254314]\n",
      "three_std_: [-26.794224136881454, 38.74622593688147]\n",
      "\n",
      "Daily Earnings in Terms of Standard Deviations:\n",
      "Day 1: Earning = 12.080078999999841 (Within 1 SD)\n",
      "Day 2: Earning = 15.209961000000021 (Within 1 SD)\n",
      "Day 3: Earning = 4.679931000000124 (Within 1 SD)\n",
      "Day 4: Earning = 11.819824000000153 (Within 1 SD)\n",
      "Day 5: Earning = 5.040038999999979 (Within 1 SD)\n",
      "Day 6: Earning = 0.14013699999986784 (Within 1 SD)\n",
      "Day 7: Earning = 2.679931000000124 (Within 1 SD)\n",
      "Day 8: Earning = 14.590087999999923 (Within 1 SD)\n",
      "Day 9: Earning = 16.060058000000026 (Within 1 SD)\n",
      "Day 10: Earning = -22.54003899999998 (Within 3 SDs)\n"
     ]
    }
   ],
   "source": [
    "print(f\"Mean:{mean_earnings}\")\n",
    "print(f\"SD:{std_deviation}\")\n",
    "\n",
    "# Calculate thresholds\n",
    "            #Mean−1 SD\n",
    "            #Mean+1 SD\n",
    "one_std_high = mean_earnings + std_deviation\n",
    "one_std_low = mean_earnings - std_deviation\n",
    "\n",
    "print(f\"one_std_: [{one_std_low}, {one_std_high}]\")\n",
    "\n",
    "\n",
    "            #Mean−2 SDs\n",
    "            #Mean+2 SDs\n",
    "two_std_high = mean_earnings + 2 * std_deviation\n",
    "two_std_low = mean_earnings - 2 * std_deviation\n",
    "print(f\"two_std_: [{two_std_low}, {two_std_high}]\")\n",
    "\n",
    "            #Mean−3 SDs\n",
    "            #Mean+3 SDs\n",
    "three_std_high = mean_earnings + 3 * std_deviation\n",
    "three_std_low = mean_earnings - 3 * std_deviation\n",
    "print(f\"three_std_: [{three_std_low}, {three_std_high}]\")\n",
    "\n",
    "    # Categorize daily earnings based on standard deviations\n",
    "print(\"\\nDaily Earnings in Terms of Standard Deviations:\")\n",
    "for i, earning in enumerate(daily_earnings, start=1):\n",
    "    if one_std_low <= earning <= one_std_high:\n",
    "        sd_category = \"Within 1 SD\"\n",
    "    elif two_std_low <= earning <= two_std_high:\n",
    "        sd_category = \"Within 2 SDs\"\n",
    "    elif three_std_low <= earning <= three_std_high:\n",
    "        sd_category = \"Within 3 SDs\"\n",
    "    else:\n",
    "        sd_category = \"Beyond 3 SDs\"\n",
    "    print(f\"Day {i}: Earning = {earning} ({sd_category})\")\n"
   ]
  },
  {
   "cell_type": "markdown",
   "metadata": {},
   "source": [
    "Explanation of the Output:\n",
    "\n",
    "Within 1 SD: These earnings are close to the average and considered typical.\n",
    "\n",
    "\n",
    "Within 2 SDs: These earnings are more varied but still within a reasonable range.\n",
    "\n",
    "\n",
    "Beyond 2 SDs: These are unusual earnings, indicating significant gains or losses."
   ]
  },
  {
   "cell_type": "code",
   "execution_count": 12,
   "metadata": {},
   "outputs": [
    {
     "data": {
      "image/png": "[encoded data removed]",
      "text/plain": [
       "<Figure size 1000x600 with 1 Axes>"
      ]
     },
     "metadata": {},
     "output_type": "display_data"
    }
   ],
   "source": [
    "import matplotlib.pyplot as plt\n",
    "\n",
    "# Plot daily earnings\n",
    "plt.figure(figsize=(10, 6))\n",
    "plt.plot(daily_earnings, marker='o', linestyle='-', color='b', label='Daily Earnings')\n",
    "\n",
    "# Plot mean\n",
    "plt.axhline(mean_earnings, color='r', linestyle='--', label='Mean')\n",
    "\n",
    "# Plot standard deviation lines\n",
    "plt.axhline(one_std_high, color='g', linestyle='--', label='1 SD')\n",
    "plt.axhline(one_std_low, color='g', linestyle='--')\n",
    "plt.axhline(two_std_high, color='y', linestyle='--', label='2 SDs')\n",
    "plt.axhline(two_std_low, color='y', linestyle='--')\n",
    "plt.axhline(three_std_high, color='m', linestyle='--', label='3 SDs')\n",
    "plt.axhline(three_std_low, color='m', linestyle='--')\n",
    "\n",
    "plt.title('SP500 Daily Earnings with Standard Deviations')\n",
    "plt.xlabel('Day')\n",
    "plt.ylabel('Earnings')\n",
    "plt.legend()\n",
    "plt.grid(True)\n",
    "plt.show()\n"
   ]
  },
  {
   "cell_type": "markdown",
   "metadata": {},
   "source": [
    "Question2\n",
    "\n",
    "Place the open prices and close prices in a Cartesian coordinate system, where the open prices are represented as x-coordinates and close prices are represented as y-coordinates. \n",
    "\n",
    "Write a Python program to store them in a Numpy array. \n",
    "\n",
    "The program then finds the two points which together form the two diagonal corners of a rectangle such that the rectangle has the largest area. \n",
    "\n",
    "The program next finds the two points which together form the two diagonal corners of a rectangle such that the rectangle has the largest perimeter."
   ]
  },
  {
   "cell_type": "markdown",
   "metadata": {},
   "source": [
    " Each pair of open and close prices forms a point in the 2D Cartesian coordinate system, like (x, y) where x is the open price and y is the close price."
   ]
  },
  {
   "cell_type": "markdown",
   "metadata": {},
   "source": [
    "<h3>Explanation to write the code:\n",
    "\n",
    "The Goal:\n",
    "finding the two points that form the diagonal corners of a rectangle that:\n",
    "Has the largest area.\n",
    "Has the largest perimeter.\n",
    "\n",
    "\n",
    "Formulas:\n",
    "Area of a Rectangle formed by two points (x1,y1) and (x2,y2) in a Cartesian system is:\n",
    "\n",
    "Area=∣x2−x1∣×∣y2−y1∣\n",
    "\n",
    "Perimeter of a Rectangle:\n",
    "\n",
    "Perimeter=2×(∣x2−x1∣+∣y2−y1∣"
   ]
  },
  {
   "cell_type": "markdown",
   "metadata": {},
   "source": []
  },
  {
   "cell_type": "code",
   "execution_count": 13,
   "metadata": {},
   "outputs": [
    {
     "name": "stdout",
     "output_type": "stream",
     "text": [
      "The two points forming the rectangle with the largest area are: ((2683.72998, 2695.810059), (2798.959961, 2776.419922))\n",
      "The largest area is: 9288.672981902615\n",
      "The two points forming the rectangle with the largest perimeter are: ((2683.72998, 2695.810059), (2798.959961, 2776.419922))\n",
      "The largest perimeter is: 391.67968800000017\n"
     ]
    }
   ],
   "source": [
    "#We have defiened two array previousely for open_prices and close_prices :\n",
    "\n",
    "# Step 1: Combine open and close prices into a NumPy array of coordinates\n",
    "\n",
    "# Each row represents a point (x, y) where x is an open price and y is a close price\n",
    "# The points are stored in a 2D array where each row is a point (x, y)\n",
    "\n",
    "#numpy.column_stack() function is used to stack 1-D arrays as columns into a 2-D array.\n",
    "#It takes a sequence of 1-D arrays and stack them as columns to make a single 2-D array.\n",
    "\n",
    "\n",
    "coordinates = np.column_stack((open_prices, close_prices))\n",
    "\n",
    "# Initialize variables to store max area and perimeter found\n",
    "max_area = 0  # This will hold the maximum area of a rectangle found\n",
    "max_perimeter = 0  # This will hold the maximum perimeter of a rectangle found\n",
    "\n",
    "# Variables to store the points (coordinates) that give the max area and max perimeter\n",
    "points_max_area = None\n",
    "points_max_perimeter = None\n",
    "\n",
    "\n",
    "\n",
    "#Loop over all pairs of points to calculate the area and perimeter of rectangles\n",
    "# We're going to compare every pair of points, where (i, j) represent two points\n",
    "\n",
    "# Step 2: Find the two points with the largest area and perimeter\n",
    "for i in range(len(coordinates)): # Outer loop for the first point\n",
    "    for j in range(i + 1, len(coordinates)):  # Inner loop for the second point (j > i)\n",
    "        # Extract the coordinates (x1, y1) for point i and (x2, y2) for point j\n",
    "        x1, y1 = coordinates[i]\n",
    "        x2, y2 = coordinates[j]\n",
    "        \n",
    "        # Calculate the area of the rectangle\n",
    "        area = abs(x2 - x1) * abs(y2 - y1)\n",
    "\n",
    "        # Calculate the perimeter of the rectangle formed by (x1, y1) and (x2, y2)\n",
    "        # Formula for the perimeter is 2 * (|x2 - x1| + |y2 - y1|)\n",
    "        # Calculate the perimeter of the rectangle\n",
    "        perimeter = 2 * (abs(x2 - x1) + abs(y2 - y1))\n",
    "        \n",
    "        # Update max area and corresponding points\n",
    "        #Check if the current area is larger than the previously stored max area\n",
    "        if area > max_area:\n",
    "            max_area = area # Update the max area\n",
    "            points_max_area = ((x1, y1), (x2, y2))  # Store the points that give this max area\n",
    "        \n",
    "        # Update max perimeter and corresponding points\n",
    "        # Check if the current perimeter is larger than the previously stored max perimeter\n",
    "        if perimeter > max_perimeter:\n",
    "            max_perimeter = perimeter                   # Update the max premiter\n",
    "            points_max_perimeter = ((x1, y1), (x2, y2)) # Store the points that give this max perimeter\n",
    "\n",
    "\n",
    "# Step 3: Output the results\n",
    "# Print the two points that form the rectangle with the largest area and the value of the largest area\n",
    "print(f\"The two points forming the rectangle with the largest area are: {points_max_area}\")\n",
    "print(f\"The largest area is: {max_area}\")\n",
    "\n",
    "# Print the two points that form the rectangle with the largest perimeter and the value of the largest perimeter\n",
    "print(f\"The two points forming the rectangle with the largest perimeter are: {points_max_perimeter}\")\n",
    "print(f\"The largest perimeter is: {max_perimeter}\")\n"
   ]
  }
 ],
 "metadata": {
  "kernelspec": {
   "display_name": "Elaenv",
   "language": "python",
   "name": "python3"
  },
  "language_info": {
   "codemirror_mode": {
    "name": "ipython",
    "version": 3
   },
   "file_extension": ".py",
   "mimetype": "text/x-python",
   "name": "python",
   "nbconvert_exporter": "python",
   "pygments_lexer": "ipython3",
   "version": "3.12.4"
  }
 },
 "nbformat": 4,
 "nbformat_minor": 2
}
